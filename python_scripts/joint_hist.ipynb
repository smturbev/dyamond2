{
 "cells": [
  {
   "cell_type": "markdown",
   "metadata": {
    "toc": true
   },
   "source": [
    "<h1>Table of Contents<span class=\"tocSkip\"></span></h1>\n",
    "<div class=\"toc\"><ul class=\"toc-item\"><li><span><a href=\"#Calculate-albedo\" data-toc-modified-id=\"Calculate-albedo-1\"><span class=\"toc-item-num\">1&nbsp;&nbsp;</span>Calculate albedo</a></span></li>\n"
   ]
  },
  {
   "cell_type": "code",
   "execution_count": null,
   "metadata": {},
   "outputs": [],
   "source": [
    "import xarray as xr\n",
    "import matplotlib.pyplot as plt\n",
    "from matplotlib import ticker, cm\n",
    "from utility import analysis_parameters as ap, util\n",
    "import numpy as np\n",
    "import dask\n",
    "from dask.diagnostics import ProgressBar\n",
    "pbar = ProgressBar()\n",
    "pbar.register()"
   ]
  },
  {
   "cell_type": "code",
   "execution_count": null,
   "metadata": {
    "scrolled": true
   },
   "outputs": [],
   "source": [
    "region=\"TWP\""
   ]
  },
  {
   "cell_type": "code",
   "execution_count": null,
   "metadata": {},
   "outputs": [],
   "source": [
    "chunk_dict = {\"time\":500, \"lat\":400, \"lon\":1440} # \"grid_size\":500000} \n",
    "sa_olr = xr.open_dataset(ap.get_file(\"SAM\", \"rlt\"), chunks=chunk_dict).rlt\n",
    "sa_swn = xr.open_dataset(ap.get_file(\"SAM\", \"rst\"), chunks=chunk_dict).rstacc\n",
    "ds = xr.open_dataset(ap.get_file(\"DATA\", \"rad\"), chunks=chunk_dict)\n",
    "da_olr = ds.adj_atmos_lw_up_all_toa_1h\n",
    "da_swu = ds.adj_atmos_sw_up_all_toa_1h\n",
    "da_swd = ds.adj_atmos_sw_down_all_toa_1h\n",
    "ni_olr = xr.open_dataset(ap.get_file(\"NICAM\", \"rlut\"), chunks=chunk_dict).rlut\n",
    "ni_swu = xr.open_dataset(ap.get_file(\"NICAM\", \"rsut\"), chunks=chunk_dict).rsut\n",
    "ni_swd = xr.open_dataset(ap.get_file(\"NICAM\", \"rsdt\"), chunks=chunk_dict).rsdt\n",
    "um_olr = xr.open_dataset(ap.get_file(\"UM\", \"rlut\"), chunks=chunk_dict).rlut\n",
    "um_swu = xr.open_dataset(ap.get_file(\"UM\", \"rsut\"), chunks=chunk_dict).rsut\n",
    "um_swd = xr.open_dataset(ap.get_file(\"UM\", \"rsdt\"), chunks=chunk_dict).rsdt\n",
    "ge_olr = xr.open_dataset(ap.get_file(\"GEOSr0.25deg\", \"rlut\"), chunks=chunk_dict).rlut\n",
    "ge_swu = xr.open_dataset(ap.get_file(\"GEOSr0.25deg\", \"rsut\"), chunks=chunk_dict).rsut\n",
    "ge_swn = xr.open_dataset(ap.get_file(\"GEOSr0.25deg\", \"rst\"), chunks=chunk_dict).rst\n",
    "ge_swd = ge_swu+ge_swn\n",
    "# sc_olr = xr.open_dataset(ap.get_file(\"SCREAMr0.25deg\", \"rlt\"), chunks=chunk_dict).rlt\n",
    "# sc_swn = xr.open_dataset(ap.get_file(\"SCREAMr0.25deg\", \"rst\"), chunks=chunk_dict).rst\n",
    "# sc_swd = xr.open_dataset(ap.get_file(\"SCREAMr0.25deg\", \"rsdt\"), chunks=chunk_dict).rsdt\n",
    "ge_swu"
   ]
  },
  {
   "cell_type": "code",
   "execution_count": null,
   "metadata": {},
   "outputs": [],
   "source": [
    "# sa_swn = sa_swn.where(sa_swn.time.dt.hour<4).where(sa_swd>400)\n",
    "# sa_swd = sa_swd.where(sa_swd.time.dt.hour<4).where(sa_swd>400)\n",
    "# sa_swu = sa_swu.where(sa_swu.time.dt.hour<4).where(sa_swd>400)\n",
    "# sa_swn[:40,4,4].values, sa_swd[:40,4,4].values, sa_swd[:40,4,4].values-sa_swn[:40,4,4].values\n",
    "\n",
    "# um_swn = um_swd-um_swu"
   ]
  },
  {
   "cell_type": "code",
   "execution_count": null,
   "metadata": {},
   "outputs": [],
   "source": [
    "# fig, ax = plt.subplots(2,1,figsize=(12,6))\n",
    "# ge_swn.mean(axis=(1,2)).plot(label=\"SW net\", ax=ax[0])\n",
    "# ge_swu.mean(axis=(1,2)).plot(label=\"upwelling SW\", ax=ax[0])\n",
    "# ge_swd.mean(axis=(1,2)).plot(label=\"downwelling SW\", ax=ax[0])\n",
    "# (ge_swu/ge_swd).mean(axis=(1,2)).plot(ax=ax[1])\n",
    "# ax[1].set_ylim([0,0.8])\n",
    "# fig.suptitle(\"GEOS TWP\")\n",
    "# ax[0].legend()\n",
    "# plt.savefig(\"../plots/geos_twp-swd-swn-swu.png\", dpi=120)\n",
    "# plt.show()"
   ]
  },
  {
   "cell_type": "markdown",
   "metadata": {},
   "source": [
    "# Coarsen "
   ]
  },
  {
   "cell_type": "code",
   "execution_count": null,
   "metadata": {},
   "outputs": [],
   "source": [
    "n=40 # n=40 for 0.25 deg or n=10 for 1 deg\n",
    "ni_olr = ni_olr.coarsen(lat=len(ni_olr.lat)//n, lon=len(ni_olr.lon)//n, boundary='trim').mean()\n",
    "ni_swu = ni_swu.coarsen(lat=len(ni_swu.lat)//n, lon=len(ni_swu.lon)//n, boundary='trim').mean()\n",
    "ni_swd = ni_swd.coarsen(lat=len(ni_swd.lat)//n, lon=len(ni_swd.lon)//n, boundary='trim').mean()\n",
    "sa_olr = sa_olr.coarsen(lat=len(sa_olr.lat)//n, lon=len(sa_olr.lon)//n, boundary='trim').mean()\n",
    "# sa_swu = sa_swu.coarsen(lat=len(sa_swu.lat)//n, lon=len(sa_swu.lon)//n, boundary='trim').mean()\n",
    "# sa_swd = sa_swd.coarsen(lat=len(sa_swd.lat)//n, lon=len(sa_swd.lon)//n, boundary='trim').mean()\n",
    "sa_swn = sa_swn.coarsen(lat=len(sa_swn.lat)//n, lon=len(sa_swn.lon)//n, boundary='trim').mean()\n",
    "um_olr = um_olr.coarsen(latitude=len(um_olr.latitude)//n, longitude=len(um_olr.longitude)//n, boundary='trim').mean()\n",
    "um_swu = um_swu.coarsen(latitude=len(um_swu.latitude)//n, longitude=len(um_swu.longitude)//n, boundary='trim').mean()\n",
    "um_swd = um_swd.coarsen(latitude=len(um_swd.latitude)//n, longitude=len(um_swd.longitude)//n, boundary='trim').mean()\n"
   ]
  },
  {
   "cell_type": "code",
   "execution_count": null,
   "metadata": {},
   "outputs": [],
   "source": [
    "sa_swd = ge_swd.interp(time=sa_swn.time, \n",
    "                       lat=sa_swn.lat, \n",
    "                       lon=sa_swn.lon, \n",
    "                       method=\"nearest\",\n",
    "                       kwargs={\"fill_value\": np.nan})\n",
    "sa_swu = sa_swd - sa_swn"
   ]
  },
  {
   "cell_type": "markdown",
   "metadata": {},
   "source": [
    "# Calculate albedo\n",
    "\n",
    "\n",
    "$ alb = \\frac{sw_{up}}{sw_{down}} $ "
   ]
  },
  {
   "cell_type": "code",
   "execution_count": null,
   "metadata": {},
   "outputs": [],
   "source": [
    "ni_alb = ni_swu/ni_swd.where(ni_swd>100)\n",
    "sa_alb = sa_swu/sa_swd.where(sa_swd>100)\n",
    "um_alb = um_swu/um_swd.where(um_swd>100)\n",
    "da_alb = da_swu/da_swd.where(da_swd>10)\n",
    "ge_alb = ge_swu/ge_swd.where(ge_swd>100)\n",
    "# ni_alb = ni_swu/np.where(ni_swd>10, sni_wd, np.nan)\n",
    "# ni_alb = ni_swu/np.where(ni_swd>10, sni_wd, np.nan)\n",
    "# ni_alb\n"
   ]
  },
  {
   "cell_type": "code",
   "execution_count": null,
   "metadata": {},
   "outputs": [],
   "source": [
    "um_swn = um_swd-um_swu\n",
    "fig, ax = plt.subplots(2,1,figsize=(12,6))\n",
    "ge_swn.mean(axis=(1,2)).plot(label=\"SW net\", ax=ax[0])\n",
    "ge_swu.mean(axis=(1,2)).plot(label=\"upwelling SW\", ax=ax[0])\n",
    "ge_swd.mean(axis=(1,2)).plot(label=\"downwelling SW\", ax=ax[0])\n",
    "# ge_swd.mean(axis=(1,2)).plot(label=\"GEOS downwelling SW\", linestyle=\"--\", ax=ax[0])\n",
    "ge_alb = (ge_swu/ge_swd)\n",
    "ge_alb.where(ge_alb.time.dt.hour<5).mean(axis=(1,2)).plot(ax=ax[1], label=\"alb\")\n",
    "axt=ax[1].twinx()\n",
    "ge_olr.mean(axis=(1,2)).plot(ax=axt, color=\"C1\", label=\"OLR\")\n",
    "ax[1].legend(loc=\"upper left\")\n",
    "axt.legend(loc=\"upper right\")\n",
    "ax[1].set_ylabel(\"albedo\")\n",
    "ax[1].set_ylim([0,0.8])\n",
    "fig.suptitle(\"GEOS TWP\")\n",
    "ax[0].legend()\n",
    "plt.savefig(\"../plots/geos_coarse_twp-swd-swn-swu.png\", dpi=120)\n",
    "plt.show()"
   ]
  },
  {
   "cell_type": "code",
   "execution_count": null,
   "metadata": {},
   "outputs": [],
   "source": [
    "da_olr.shape, da_alb.shape, da_swu.shape, da_swd.shape"
   ]
  },
  {
   "cell_type": "code",
   "execution_count": null,
   "metadata": {},
   "outputs": [],
   "source": [
    "# models=[\"CERES SYN1deg 1 hrly\", \"NICAM 1x1\", \"SAM 1x1 - using NICAM SWD\", \"UM 1x1\", \"GEOS 1x1\"]\n",
    "models=[\"CERES SYN1deg 1 hrly\", \"NICAM 0.25deg\", \"SAM 0.25deg - using NICAM SWD\", \"UM 0.25deg\", \"GEOS 0.25deg\"]\n",
    "fig = plt.figure(figsize=(28,18))\n",
    "axes = [fig.add_subplot(2,3,i,box_aspect=1.1) for i in range(1,len(models)+1)]\n",
    "i = 0\n",
    "olrs=[da_olr, ni_olr, sa_olr, um_olr, ge_olr]\n",
    "albs=[da_alb, ni_alb, sa_alb, um_alb, ge_alb]\n",
    "for i in range(len(olrs)):\n",
    "    olr = olrs[i]\n",
    "    alb = albs[i]\n",
    "    olr = olr.where((olr.time.dt.hour>=0)&(olr.time.dt.hour<=4))\n",
    "    alb = alb.where((alb.time.dt.hour>=0)&(alb.time.dt.hour<=4))\n",
    "    util.dennisplot(\"density\",olr.values.flatten(), alb.values.flatten(), \n",
    "                ax=axes[i], model=models[i], region=region, cmap=\"gist_earth_r\")\n",
    "    axes[i].set_xlabel(\"OLR (W/m$^2$)\")\n",
    "    axes[i].set_ylabel(\"Albedo\")\n",
    "    axes[i].grid(True)\n",
    "    axes[i].set_ylim([0,0.8])\n",
    "    axes[i].set_title(\"{} {}\\n01 Jan-1 Mar 2020 (10am-2pm LT)\".format(models[i], region), fontsize=20)\n",
    "    i+=1\n",
    "plt.savefig(\"../plots/TWP/jhist_{}.png\".format(region))\n",
    "plt.show()"
   ]
  },
  {
   "cell_type": "code",
   "execution_count": null,
   "metadata": {},
   "outputs": [],
   "source": [
    "fig, ax = plt.subplots(1,2, figsize=(12,5))\n",
    "t = 400\n",
    "ge_olr[t].plot.pcolormesh(vmin=80, vmax=300, cmap=\"viridis_r\", ax=ax[0])\n",
    "ge_alb[t].plot.pcolormesh(vmin=0.05, vmax=0.8, cmap=\"viridis\", ax=ax[1], label=\"Mean alb={0:0.2g}\".format(ge_alb[t].mean().values))\n",
    "ax[0].annotate(\"Mean OLR={}\".format(int(ge_olr[t].mean().values)), xy=(0.1,0.1), xycoords=\"axes fraction\", backgroundcolor=\"w\")\n",
    "ax[1].annotate(\"Mean Alb={0:0.2g}\".format((ge_alb[t].mean().values)), xy=(0.1,0.1), xycoords=\"axes fraction\", backgroundcolor=\"w\")\n",
    "plt.savefig(\"../plots/TWP/GEOS_weird_albolr.png\")\n",
    "plt.show()\n",
    "\n",
    "print(ge_olr[t].mean().values, ge_alb[t].mean().values)\n"
   ]
  },
  {
   "cell_type": "code",
   "execution_count": null,
   "metadata": {},
   "outputs": [],
   "source": [
    "ge_iwp = xr.open_dataset(ap.get_file(\"GEOSr0.25deg\", \"clivi\", \"TWP\")).clivi\n",
    "ge_iwp"
   ]
  },
  {
   "cell_type": "code",
   "execution_count": null,
   "metadata": {},
   "outputs": [],
   "source": [
    "fig, ax = plt.subplots(1,2, figsize=(12,5))\n",
    "t = 400\n",
    "ge_olr[t].plot.pcolormesh(vmin=80, vmax=300, cmap=\"viridis_r\", ax=ax[0])\n",
    "ge_alb[t].plot.pcolormesh(vmin=0.05, vmax=0.8, cmap=\"viridis\", ax=ax[1], label=\"Mean alb={0:0.2g}\".format(ge_alb[t].mean().values))\n",
    "ax[0].annotate(\"Mean OLR={}\".format(int(ge_olr[t].mean().values)), xy=(0.1,0.1), xycoords=\"axes fraction\", backgroundcolor=\"w\")\n",
    "ax[1].annotate(\"Mean Alb={0:0.2g}\".format((ge_alb[t].mean().values)), xy=(0.1,0.1), xycoords=\"axes fraction\", backgroundcolor=\"w\")\n",
    "plt.savefig(\"../plots/TWP/GEOS_weird_albolr.png\")\n",
    "plt.show()"
   ]
  },
  {
   "cell_type": "code",
   "execution_count": null,
   "metadata": {},
   "outputs": [],
   "source": []
  }
 ],
 "metadata": {
  "kernelspec": {
   "display_name": "Python 3 (based on the module python3/2022.01)",
   "language": "python",
   "name": "python3_2022_01"
  },
  "language_info": {
   "codemirror_mode": {
    "name": "ipython",
    "version": 3
   },
   "file_extension": ".py",
   "mimetype": "text/x-python",
   "name": "python",
   "nbconvert_exporter": "python",
   "pygments_lexer": "ipython3",
   "version": "3.9.9"
  },
  "toc": {
   "base_numbering": 1,
   "nav_menu": {},
   "number_sections": true,
   "sideBar": true,
   "skip_h1_title": false,
   "title_cell": "Table of Contents",
   "title_sidebar": "Contents",
   "toc_cell": true,
   "toc_position": {},
   "toc_section_display": true,
   "toc_window_display": false
  }
 },
 "nbformat": 4,
 "nbformat_minor": 4
}
