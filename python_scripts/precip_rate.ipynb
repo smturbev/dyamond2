{
 "cells": [
  {
   "cell_type": "code",
   "execution_count": 1,
   "id": "95e96244-19c2-4fd0-bb99-190625fafd6c",
   "metadata": {},
   "outputs": [],
   "source": [
    "import xarray as xr\n",
    "import matplotlib.pyplot as plt\n",
    "from matplotlib import ticker, cm\n",
    "from utility import analysis_parameters as ap, util\n",
    "import numpy as np\n",
    "import dask\n",
    "from dask.diagnostics import ProgressBar\n",
    "pbar = ProgressBar()\n",
    "pbar.register()\n",
    "\n",
    "colors = ap.COLORS"
   ]
  },
  {
   "cell_type": "markdown",
   "id": "5f398667-f9a6-46be-973c-ec99674c5b37",
   "metadata": {},
   "source": [
    "# Plot precip rates"
   ]
  },
  {
   "cell_type": "code",
   "execution_count": 2,
   "id": "28f1ca43-185e-4cd8-beed-811542fe2519",
   "metadata": {},
   "outputs": [],
   "source": [
    "models = [\"NICAM\", \"SCREAM\", \"UM\", \"SAM\"]"
   ]
  },
  {
   "cell_type": "code",
   "execution_count": 4,
   "id": "a80f7509-80ef-40b4-98e4-b25068d8dd89",
   "metadata": {},
   "outputs": [
    {
     "name": "stdout",
     "output_type": "stream",
     "text": [
      "0 NICAM\n",
      "1 SCREAM\n",
      "2 UM\n",
      "3 SAM\n"
     ]
    }
   ],
   "source": [
    "fig = plt.figure(6,4)\n",
    "days = \n",
    "for i, m in enumerate(models):\n",
    "    pr = xr.open_dataset(ap.get_file(m, \"pr\", \"gt\")).pr\n",
    "    pr = util.convert_to_mmhr(m, pr)\n",
    "    plt.plot(pr.time, pr, color=colors[m], label=m)\n",
    "plt.legend()\n",
    "plt.grid(True)\n",
    "plt.title(\"Precipitation Rates - Global Tropics\")\n",
    "plt.xlabel(\"time\")\n",
    "plt.ylabel(\"mm/hr\")\n",
    "plt.savefig(\"../plots/pr_30days.png\", dpi=120)\n",
    "plt.show()"
   ]
  },
  {
   "cell_type": "code",
   "execution_count": null,
   "id": "2c4fd14f-0948-4d2d-8a78-60a48f5135a3",
   "metadata": {},
   "outputs": [],
   "source": []
  }
 ],
 "metadata": {
  "kernelspec": {
   "display_name": "Python 3 (based on the module python3/2022.01)",
   "language": "python",
   "name": "python3_2022_01"
  },
  "language_info": {
   "codemirror_mode": {
    "name": "ipython",
    "version": 3
   },
   "file_extension": ".py",
   "mimetype": "text/x-python",
   "name": "python",
   "nbconvert_exporter": "python",
   "pygments_lexer": "ipython3",
   "version": "3.9.9"
  }
 },
 "nbformat": 4,
 "nbformat_minor": 5
}
