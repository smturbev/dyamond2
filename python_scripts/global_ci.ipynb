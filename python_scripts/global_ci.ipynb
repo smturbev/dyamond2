{
 "cells": [
  {
   "cell_type": "markdown",
   "id": "bafd87ed",
   "metadata": {
    "toc": true
   },
   "source": [
    "<h1>Table of Contents<span class=\"tocSkip\"></span></h1>\n",
    "<div class=\"toc\"><ul class=\"toc-item\"><li><span><a href=\"#Cloud-fraction\" data-toc-modified-id=\"Cloud-fraction-1\"><span class=\"toc-item-num\">1&nbsp;&nbsp;</span>Cloud fraction</a></span></li><li><span><a href=\"#Cloud-Radiative-Effects-(CRE)\" data-toc-modified-id=\"Cloud-Radiative-Effects-(CRE)-2\"><span class=\"toc-item-num\">2&nbsp;&nbsp;</span>Cloud Radiative Effects (CRE)</a></span></li><li><span><a href=\"#TTL-cirrus\" data-toc-modified-id=\"TTL-cirrus-3\"><span class=\"toc-item-num\">3&nbsp;&nbsp;</span>TTL cirrus</a></span></li><li><span><a href=\"#Tropical-Precip\" data-toc-modified-id=\"Tropical-Precip-4\"><span class=\"toc-item-num\">4&nbsp;&nbsp;</span>Tropical Precip</a></span></li></ul></div>"
   ]
  },
  {
   "cell_type": "code",
   "execution_count": 1,
   "id": "fbfcace5",
   "metadata": {},
   "outputs": [],
   "source": [
    "import xarray as xr\n",
    "import netCDF4 as nc\n",
    "import numpy as np\n",
    "import cartopy.crs as ccrs\n",
    "import matplotlib.pyplot as plt\n",
    "\n",
    "from utility import analysis_parameters as ap\n",
    "from utility import util\n",
    "\n",
    "import warnings\n",
    "warnings.filterwarnings('ignore')\n"
   ]
  },
  {
   "cell_type": "markdown",
   "id": "f63c3627",
   "metadata": {},
   "source": [
    "\n",
    "# Cloud fraction"
   ]
  },
  {
   "cell_type": "code",
   "execution_count": null,
   "id": "dee019d1",
   "metadata": {
    "scrolled": true
   },
   "outputs": [],
   "source": [
    "h = \"h0\"\n",
    "\n",
    "ds = load_dates(h)\n"
   ]
  },
  {
   "cell_type": "code",
   "execution_count": null,
   "id": "eebc45e8",
   "metadata": {},
   "outputs": [],
   "source": [
    "ds.CLDHGH"
   ]
  },
  {
   "cell_type": "code",
   "execution_count": null,
   "id": "5bfd8cc4",
   "metadata": {
    "code_folding": [
     0
    ]
   },
   "outputs": [],
   "source": [
    "# plot ci fraction with different definitions\n",
    "X,Y = np.meshgrid(ds.lon.values, ds.lat.values)\n",
    "\n",
    "# fig = plt.figure(figsize=(10,2))\n",
    "# ax = plt.axes(projection=ccrs.PlateCarree())\n",
    "# ax.coastlines()\n",
    "# cldci = np.nanmean(np.where((ds.CLDLOW==0)&(ds.CLDMED==0), ds.CLDHGH, 0), axis=(0))\n",
    "# plt.pcolormesh(X,Y,cldci, vmin=0, vmax=0.4)\n",
    "# plt.colorbar()\n",
    "# plt.title(\"Cirrus cloud fraction - SCREAM\\nNo low or med cld below\")\n",
    "# plt.show()\n",
    "\n",
    "# fig = plt.figure(figsize=(10,2))\n",
    "# ax = plt.axes(projection=ccrs.PlateCarree())\n",
    "# ax.coastlines()\n",
    "# cldci = np.nanmean(np.where((ds.CLDLOW==0)&(ds.CLDMED<0.05), ds.CLDHGH, 0), axis=(0))\n",
    "# plt.pcolormesh(X,Y,cldci, vmin=0, vmax=0.4)\n",
    "# plt.colorbar()\n",
    "# plt.title(\"Cirrus cloud fraction - SCREAM\\nNo low, med cld less than 5%\")\n",
    "# plt.show()\n",
    "\n",
    "# fig = plt.figure(figsize=(10,2))\n",
    "# ax = plt.axes(projection=ccrs.PlateCarree())\n",
    "# ax.coastlines()\n",
    "# cldci = np.nanmean(np.where((ds.CLDLOW<0.05)&(ds.CLDMED==0), ds.CLDHGH, 0), axis=(0))\n",
    "# plt.pcolormesh(X,Y,cldci, vmin=0, vmax=0.4)\n",
    "# plt.colorbar()\n",
    "# plt.title(\"Cirrus cloud fraction - SCREAM\\nlow cld less than 5%, no med\")\n",
    "# plt.show()\n",
    "\n",
    "# fig = plt.figure(figsize=(10,2))\n",
    "# ax = plt.axes(projection=ccrs.PlateCarree())\n",
    "# ax.coastlines()\n",
    "# cldci = np.nanmean(np.where((ds.CLDLOW<0.05)&(ds.CLDMED<0.05), ds.CLDHGH, 0), axis=(0))\n",
    "# plt.pcolormesh(X,Y,cldci, vmin=0, vmax=0.2)\n",
    "# plt.colorbar()\n",
    "# plt.title(\"Cirrus cloud fraction - SCREAM\\nlow/med cld less than 5%\")\n",
    "# plt.show()\n",
    "\n",
    "# fig = plt.figure(figsize=(10,2))\n",
    "# ax = plt.axes(projection=ccrs.PlateCarree())\n",
    "# ax.coastlines()\n",
    "# cldci0 = np.nanmean(np.where((ds.CLDLOW<0.05)&(ds.CLDMED<0.05), ds.CLDHGH, 0), axis=(0))\n",
    "# cldci1 = np.nanmean(np.where((ds.CLDLOW<0.05)&(ds.CLDMED==0), ds.CLDHGH, 0), axis=(0))\n",
    "# cldci = cldci0-cldci1\n",
    "# plt.pcolormesh(X,Y,cldci, cmap=\"bwr\")\n",
    "# plt.colorbar()\n",
    "# plt.title(\"Cirrus cloud fraction - SCREAM\\ndifference (no med - med 5%) & low 5%\")\n",
    "# plt.show()\n",
    "\n",
    "fig = plt.figure(figsize=(10,2))\n",
    "ax = plt.axes(projection=ccrs.PlateCarree())\n",
    "ax.coastlines()\n",
    "cldci = np.nanmean(ds.CLDHGH, axis=(0))\n",
    "plt.pcolormesh(X,Y,cldci, vmin=0, vmax=0.9)\n",
    "plt.colorbar()\n",
    "plt.title(\"Cirrus cloud fraction - SCREAM\\njust high cloud amount\")\n",
    "plt.show()\n",
    "\n",
    "cldci0 = np.nanmean(np.where((ds.CLDLOW==0)&(ds.CLDMED==0), ds.CLDHGH, 0), axis=(0,2))\n",
    "cldci1 = np.nanmean(np.where((ds.CLDLOW<0.05)&(ds.CLDMED==0), ds.CLDHGH, 0), axis=(0,2))\n",
    "cldci2 = np.nanmean(np.where((ds.CLDLOW==0)&(ds.CLDMED<0.05), ds.CLDHGH, 0), axis=(0,2))\n",
    "cldci3 = np.nanmean(np.where((ds.CLDLOW<0.05)&(ds.CLDMED<0.05), ds.CLDHGH, 0), axis=(0,2))\n",
    "cldci = np.nanmean(ds.CLDHGH, axis=(0,2))\n",
    "\n",
    "plt.figure(figsize=(8,2))\n",
    "# plt.plot(ds.lat.values, cldci0, label=\"no low, no med\")\n",
    "# plt.plot(ds.lat.values, cldci1, label=\"5% low, no med\")\n",
    "# plt.plot(ds.lat.values, cldci2, label=\"no low, 5% med\")\n",
    "# plt.plot(ds.lat.values, cldci3, label=\"5% low, 5% med\")\n",
    "plt.plot(ds.lat.values, cldci, label=\"high cld fraction\")\n",
    "plt.legend()\n",
    "plt.show()"
   ]
  },
  {
   "cell_type": "code",
   "execution_count": null,
   "id": "700916bb",
   "metadata": {
    "code_folding": [
     0
    ]
   },
   "outputs": [],
   "source": [
    "# plot ci and dcc fraction\n",
    "X,Y = np.meshgrid(ds.lon.values, ds.lat.values)\n",
    "\n",
    "fig = plt.figure(figsize=(10,2))\n",
    "ax = plt.axes(projection=ccrs.PlateCarree())\n",
    "ax.coastlines()\n",
    "cldci = np.nanmean(ds.CLDHGH, axis=(0))\n",
    "plt.pcolormesh(X,Y,cldci, vmin=0, vmax=1, cmap=\"rainbow\")\n",
    "plt.colorbar()\n",
    "plt.title(\"Cirrus cloud fraction - SCREAM\\njust high cloud amount above 400mb\")\n",
    "plt.show()\n",
    "\n",
    "fig = plt.figure(figsize=(10,2))\n",
    "ax = plt.axes(projection=ccrs.PlateCarree())\n",
    "ax.coastlines()\n",
    "cldconv = np.nanmean(np.where((ds.TMCLDICE>1), ds.CLDTOT, 0), axis=(0))\n",
    "plt.pcolormesh(X,Y,cldconv, vmin=0, vmax=0.3, cmap=\"rainbow\")\n",
    "plt.colorbar()\n",
    "plt.title(\"DCC fraction - SCREAM\")\n",
    "plt.show()\n",
    "\n",
    "\n",
    "fig, ax = plt.subplots(1,1,figsize=(7,1.5))\n",
    "ax.plot(ds.lat.values, np.nanmean(cldci, axis=1), label=\"high cld fraction\", color=\"C0\")\n",
    "axt = ax.twinx()\n",
    "axt.plot(ds.lat.values, np.nanmean(cldconv, axis=1), label=\"dcc fraction\", color=\"C1\")\n",
    "ax.set_title(\"zonal mean cloud fraction\")\n",
    "ax.tick_params(axis=\"y\", labelcolor=\"C0\")\n",
    "ax.set_ylabel(\"high cld frac\", color=\"C0\")\n",
    "axt.tick_params(axis=\"y\", labelcolor=\"C1\")\n",
    "axt.set_ylabel(\"dcc frac\", color=\"C1\")\n",
    "ax.set_ylim([0,0.8])\n",
    "axt.set_ylim([0,0.08])\n",
    "ax.grid(True)\n",
    "# fig.legend()\n",
    "plt.show()\n",
    "\n"
   ]
  },
  {
   "cell_type": "markdown",
   "id": "64f679e4",
   "metadata": {},
   "source": [
    "-------------------\n",
    " \n",
    "# Cloud Radiative Effects (CRE)\n",
    "\n",
    "LW CRE = OLR (clear sky) - OLR (all sky)\n",
    "\n",
    "SW CRE = ? "
   ]
  },
  {
   "cell_type": "code",
   "execution_count": null,
   "id": "a59cf4eb",
   "metadata": {
    "code_folding": [
     0
    ]
   },
   "outputs": [],
   "source": [
    "# load CRE\n",
    "h = \"h2\"\n",
    "\n",
    "ds = load_dates(h)\n"
   ]
  },
  {
   "cell_type": "code",
   "execution_count": null,
   "id": "7b2714aa",
   "metadata": {
    "code_folding": [
     0
    ]
   },
   "outputs": [],
   "source": [
    "# plot monthly mean LW CRE\n",
    "lwcre = (ds.FLNTC - ds.FLNT).mean(axis=0)\n",
    "plt.figure(figsize=(10,2))\n",
    "ax = plt.axes(projection=ccrs.PlateCarree())\n",
    "ax.coastlines()\n",
    "plt.pcolormesh(lwcre.lon, lwcre.lat, lwcre)\n",
    "plt.colorbar()\n",
    "plt.title(\"LW CRE (W/m2)\")\n",
    "plt.show()\n",
    "\n",
    "fig, ax = plt.subplots(1,1,figsize=(7,1.5))\n",
    "ax.plot(ds.lat.values, np.nanmean(lwcre, axis=1), label=\"LW CRE\", color=\"C0\")\n",
    "ax.set_title(\"zonal mean LW CRE\")\n",
    "ax.grid(True)\n",
    "# fig.legend()\n",
    "plt.show()\n",
    "\n",
    "\n",
    "\n",
    "# how do we make SW CRE?\n",
    "\n",
    "# swcre = (ds.FSNTOA - ds.FSNTOAC).mean(axis=0)\n",
    "# plt.figure(figsize=(10,2))\n",
    "# ax = plt.axes(projection=ccrs.PlateCarree())\n",
    "# ax.coastlines()\n",
    "# plt.pcolormesh(swcre.lon, swcre.lat, swcre)\n",
    "# plt.colorbar()\n",
    "# plt.show()\n",
    "\n",
    "# ncre = ((ds.FLNTC - ds.FLNT) + (ds.FSNTOA-ds.FSNTOAC)).mean(axis=0)\n",
    "# plt.figure(figsize=(10,2))\n",
    "# ax = plt.axes(projection=ccrs.PlateCarree())\n",
    "# ax.coastlines()\n",
    "# plt.pcolormesh(ncre.lon, ncre.lat, ncre, cmap=\"bwr\", vmin=-30, vmax=30)\n",
    "# plt.colorbar()\n",
    "# plt.show()"
   ]
  },
  {
   "cell_type": "markdown",
   "id": "d6356371",
   "metadata": {},
   "source": [
    "----------------------\n",
    "\n",
    "# TTL cirrus"
   ]
  },
  {
   "cell_type": "code",
   "execution_count": 2,
   "id": "a0c1651b",
   "metadata": {
    "code_folding": []
   },
   "outputs": [
    {
     "name": "stdout",
     "output_type": "stream",
     "text": [
      "01-31, 02-01, 02-02, 02-03, 02-04, 02-05, 02-06, 02-07, 02-08, 02-09, 02-10, 02-11, 02-12, 02-13, 02-14, 02-15, 02-16, 02-17, 02-18, 02-19, 02-20, 02-21, 02-22, 02-23, 02-24, 02-25, 02-26, 02-27, 02-28, "
     ]
    }
   ],
   "source": [
    "# load cloud ice\n",
    "h = \"h7\"\n",
    "ds = ap.load_dates(h)"
   ]
  },
  {
   "cell_type": "code",
   "execution_count": null,
   "id": "c97f5476",
   "metadata": {
    "code_folding": [
     0
    ]
   },
   "outputs": [],
   "source": [
    "# restrict to TTL only\n",
    "ind150 = np.argmin(abs(ds.lev-150)).values\n",
    "ind70 = np.argmin(abs(ds.lev-70)).values\n",
    "\n",
    "iceTTL = np.zeros((ds.CLDICE.shape[0],(ind150-ind70+2),ds.CLDICE.shape[2],ds.CLDICE.shape[3]))\n",
    "for i in range(ind150-ind70+2):\n",
    "    iceTTL[:,i,:,:] = ds.CLDICE.isel(lev=ind70-1+i).values\n",
    "print(iceTTL.shape)\n",
    "                    \n",
    "iceTTL = xr.DataArray(iceTTL, dims=ds.CLDICE.dims, \n",
    "                      coords={\"time\":ds.time, \"lev\":ds.lev[ind70-1:ind150+1],\"lat\":ds.lat, \"lon\":ds.lon})\n",
    "iceTTL"
   ]
  },
  {
   "cell_type": "code",
   "execution_count": null,
   "id": "17bfb16f",
   "metadata": {
    "code_folding": [
     0
    ]
   },
   "outputs": [],
   "source": [
    "# load temp and water vapor\n",
    "htemp = \"h6\"\n",
    "ds = load_dates(htemp)\n"
   ]
  },
  {
   "cell_type": "code",
   "execution_count": null,
   "id": "a2c409c8",
   "metadata": {
    "code_folding": [
     0
    ]
   },
   "outputs": [],
   "source": [
    "# restrict temp to TTL only\n",
    "tempTTL = np.zeros((ds.T.shape[0],(ind150-ind70+2),ds.T.shape[2],ds.T.shape[3]))\n",
    "for i in range(ind150-ind70+2):\n",
    "    tempTTL[:,i,:,:] = ds.T.isel(lev=ind70-1+i).values\n",
    "                    \n",
    "tempTTL = xr.DataArray(tempTTL, dims=ds.T.dims, \n",
    "                      coords={\"time\":ds.time, \"lev\":ds.lev[ind70-1:ind150+1],\n",
    "                              \"lat\":ds.lat, \"lon\":ds.lon})\n",
    "tempTTL"
   ]
  },
  {
   "cell_type": "code",
   "execution_count": null,
   "id": "713e2758",
   "metadata": {
    "code_folding": []
   },
   "outputs": [],
   "source": [
    "# restrict wv to TTL only\n",
    "qTTL = np.zeros(tempTTL.shape)\n",
    "for i in range(ind150-ind70+2):\n",
    "    qTTL[:,i,:,:] = ds.Q.isel(lev=ind70-1+i).values\n",
    "                    \n",
    "qTTL = xr.DataArray(qTTL, dims=ds.Q.dims, \n",
    "                      coords={\"time\":ds.time, \"lev\":ds.lev[ind70-1:ind150+1],\n",
    "                              \"lat\":ds.lat, \"lon\":ds.lon}, attrs=ds.Q.attrs)\n",
    "qTTL"
   ]
  },
  {
   "cell_type": "code",
   "execution_count": null,
   "id": "8ac0e248",
   "metadata": {},
   "outputs": [],
   "source": [
    "# calculate to ttl iwp\n",
    "pTTL = qTTL.lev*100[np.newaxis, :, np.newaxis, np.newaxis]\n",
    "iwc = util.q_to_wc(q, tempTTL.values, pTTL.values, qTTL.values)\n",
    "iwp = util.wc_to_wp(iwc, pTTL.values)"
   ]
  },
  {
   "cell_type": "code",
   "execution_count": null,
   "id": "61800d1c",
   "metadata": {},
   "outputs": [],
   "source": []
  },
  {
   "cell_type": "markdown",
   "id": "a25ad965",
   "metadata": {},
   "source": [
    "---------------\n",
    "\n",
    "# Tropical Precip\n"
   ]
  },
  {
   "cell_type": "code",
   "execution_count": null,
   "id": "d3df1150",
   "metadata": {},
   "outputs": [],
   "source": [
    "h = \"h1\"\n",
    "ds = load_dates(h)"
   ]
  },
  {
   "cell_type": "code",
   "execution_count": null,
   "id": "da66483e",
   "metadata": {},
   "outputs": [],
   "source": [
    "ds.PRECT.shape"
   ]
  },
  {
   "cell_type": "code",
   "execution_count": null,
   "id": "6c3657a0",
   "metadata": {},
   "outputs": [],
   "source": [
    "acc_prec = np.zeros(ds.PRECT.shape)\n",
    "for i in range(len(ds.time)-1):\n",
    "    acc_prec[i+1,:,:] = acc_prec[i,:,:] + (ds.PRECT[i,:,:]*900/1000)\n",
    "acc_prec = xr.DataArray(acc_prec, dims=ds.PRECT.dims, coords=ds.PRECT.coords, attrs={\"units\":\"mm\"})"
   ]
  },
  {
   "cell_type": "code",
   "execution_count": null,
   "id": "13499a41",
   "metadata": {},
   "outputs": [],
   "source": [
    "acc_prec.mean(axis=(1,2)).plot()\n",
    "plt.show()"
   ]
  },
  {
   "cell_type": "code",
   "execution_count": null,
   "id": "8e004991",
   "metadata": {},
   "outputs": [],
   "source": []
  }
 ],
 "metadata": {
  "kernelspec": {
   "display_name": "Python (dyamond)",
   "language": "python",
   "name": "dyamond"
  },
  "language_info": {
   "codemirror_mode": {
    "name": "ipython",
    "version": 3
   },
   "file_extension": ".py",
   "mimetype": "text/x-python",
   "name": "python",
   "nbconvert_exporter": "python",
   "pygments_lexer": "ipython3",
   "version": "3.8.11"
  },
  "toc": {
   "base_numbering": 1,
   "nav_menu": {},
   "number_sections": true,
   "sideBar": true,
   "skip_h1_title": false,
   "title_cell": "Table of Contents",
   "title_sidebar": "Contents",
   "toc_cell": true,
   "toc_position": {},
   "toc_section_display": true,
   "toc_window_display": false
  }
 },
 "nbformat": 4,
 "nbformat_minor": 5
}
