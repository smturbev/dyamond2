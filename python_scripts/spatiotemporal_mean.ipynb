{
 "cells": [
  {
   "cell_type": "code",
   "execution_count": 1,
   "id": "9c86a532-aad3-4d0a-a193-0707eefff063",
   "metadata": {},
   "outputs": [],
   "source": [
    "import xarray as xr\n",
    "import matplotlib.pyplot as plt\n",
    "from utility import analysis_parameters as ap\n",
    "from utility import util\n",
    "import numpy as np\n",
    "import dask\n",
    "from dask.diagnostics import ProgressBar\n",
    "pbar = ProgressBar()\n",
    "pbar.register()\n",
    "\n",
    "colors = ap.COLORS\n",
    "\n",
    "region=\"TWP\"\n"
   ]
  },
  {
   "cell_type": "markdown",
   "id": "1bcbb76d-be22-4845-bf1f-b838193b7e2a",
   "metadata": {},
   "source": [
    "# Plot spatiotemporal mean of OLR and IWP"
   ]
  },
  {
   "cell_type": "code",
   "execution_count": 2,
   "id": "22bde2dd-9b71-46f8-ae9d-129dc7f4034a",
   "metadata": {},
   "outputs": [
    {
     "name": "stdout",
     "output_type": "stream",
     "text": [
      "DYAMOND2...\n",
      "\t ICONr0.1deg rlt\n",
      "\t ARPr0.1deg rlt\n",
      "\t SAMr0.1deg rlt\n",
      "\t SCREAMr0.1deg rlt\n",
      "\t IFS rlt\n",
      "\t GEOSr0.1deg rlut\n",
      "\t NICAM rlut\n",
      "\t SHiELDr0.1deg rlut\n",
      "\t UM rlut\n",
      "...done.\n",
      "\n",
      "DYAMOND1...\n",
      "\t NICAM rlt\n",
      "\t FV3 rlt\n",
      "\t ICON rlt\n",
      "\t SAM rlt\n",
      "\t IFS rlt\n",
      "\t MPAS rlt\n",
      "\t ARP rlt\n",
      "\t UM rlt\n",
      "\t GEOS rlt\n",
      "...done.\n"
     ]
    }
   ],
   "source": [
    "models_rlt = [\"ICONr0.1deg\", \"ARPr0.1deg\", \"SAMr0.1deg\", \"SCREAMr0.1deg\", \"IFS\"]\n",
    "models_rlut = [\"GEOSr0.1deg\", \"NICAM\", \"SHiELDr0.1deg\", \"UM\"]\n",
    "olr_means = {}\n",
    "print(\"DYAMOND2...\")\n",
    "for m in models_rlt:\n",
    "    print(\"\\t\",m,\"rlt\")\n",
    "    olr_means[m] = (xr.open_dataset(ap.get_file(m, region, \"rlt\")))[\"rlt\"].mean()\n",
    "for m in models_rlut:\n",
    "    print(\"\\t\",m,\"rlut\")\n",
    "    olr_means[m] = xr.open_dataset(ap.get_file(m, region, \"rlut\"))[\"rlut\"].mean()\n",
    "print(\"...done.\\n\\nDYAMOND1...\")\n",
    "models1_rlt = [\"NICAM\",\"FV3\",\"ICON\",\"SAM\",\"IFS\",\"MPAS\",\"ARP\",\"UM\",\"GEOS\"]\n",
    "olr1_means = {}\n",
    "for m in models1_rlt:\n",
    "    print(\"\\t\",m,\"rlt\")\n",
    "    olr1_means[m] = xr.open_dataset(ap.get_dyamond1(m))[\"rlt\"].mean()\n",
    "print(\"...done.\")\n"
   ]
  },
  {
   "cell_type": "code",
   "execution_count": 3,
   "id": "b4f2e435-a44b-4c63-a18a-b8ca1ff7f6d4",
   "metadata": {},
   "outputs": [],
   "source": [
    "olr_means[\"OBS\"] = xr.open_dataset(ap.CERES_SYN1_1H)[\"adj_atmos_lw_up_all_toa_1h\"].mean()\n",
    "olr1_means[\"OBS\"] = xr.open_dataset(ap.CERES_SYN1_DY1)[\"olrtoa_all\"].mean()"
   ]
  },
  {
   "cell_type": "code",
   "execution_count": 4,
   "id": "93669972-a567-4c7d-a20a-08b237bfeaf0",
   "metadata": {},
   "outputs": [
    {
     "data": {
      "text/plain": [
       "({'ICONr0.1deg': <xarray.DataArray 'rlt' ()>\n",
       "  array(237.69278, dtype=float32),\n",
       "  'ARPr0.1deg': <xarray.DataArray 'rlt' ()>\n",
       "  array(247.91003, dtype=float32),\n",
       "  'SAMr0.1deg': <xarray.DataArray 'rlt' ()>\n",
       "  array(232.756, dtype=float32),\n",
       "  'SCREAMr0.1deg': <xarray.DataArray 'rlt' ()>\n",
       "  array(245.47029, dtype=float32),\n",
       "  'IFS': <xarray.DataArray 'rlt' ()>\n",
       "  array(240.2795, dtype=float32),\n",
       "  'GEOSr0.1deg': <xarray.DataArray 'rlut' ()>\n",
       "  array(223.22758, dtype=float32),\n",
       "  'NICAM': <xarray.DataArray 'rlut' ()>\n",
       "  array(216.49577, dtype=float32),\n",
       "  'SHiELDr0.1deg': <xarray.DataArray 'rlut' ()>\n",
       "  array(219.1253, dtype=float32),\n",
       "  'UM': <xarray.DataArray 'rlut' ()>\n",
       "  array(199.58702, dtype=float32),\n",
       "  'OBS': <xarray.DataArray 'adj_atmos_lw_up_all_toa_1h' ()>\n",
       "  array(222.83421, dtype=float32)},\n",
       " {'NICAM': <xarray.DataArray 'rlt' ()>\n",
       "  array(210.18744, dtype=float32),\n",
       "  'FV3': <xarray.DataArray 'rlt' ()>\n",
       "  array(236.28833, dtype=float32),\n",
       "  'ICON': <xarray.DataArray 'rlt' ()>\n",
       "  array(247.03989, dtype=float32),\n",
       "  'SAM': <xarray.DataArray 'rlt' ()>\n",
       "  array(236.40474, dtype=float32),\n",
       "  'IFS': <xarray.DataArray 'rlt' ()>\n",
       "  array(265.39587, dtype=float32),\n",
       "  'MPAS': <xarray.DataArray 'rlt' ()>\n",
       "  array(235.9879, dtype=float32),\n",
       "  'ARP': <xarray.DataArray 'rlt' ()>\n",
       "  array(253.2144, dtype=float32),\n",
       "  'UM': <xarray.DataArray 'rlt' ()>\n",
       "  array(201.46158, dtype=float32),\n",
       "  'GEOS': <xarray.DataArray 'rlt' ()>\n",
       "  array(258.5686, dtype=float32),\n",
       "  'OBS': <xarray.DataArray 'olrtoa_all' ()>\n",
       "  array(229.03757, dtype=float32)})"
      ]
     },
     "execution_count": 4,
     "metadata": {},
     "output_type": "execute_result"
    }
   ],
   "source": [
    "olr_means, olr1_means"
   ]
  },
  {
   "cell_type": "code",
   "execution_count": null,
   "id": "65630bd6-77f8-488f-ab13-041c1fe138fb",
   "metadata": {},
   "outputs": [],
   "source": []
  },
  {
   "cell_type": "code",
   "execution_count": 30,
   "id": "77f62ac7-23eb-4706-a72b-73e1ec95127e",
   "metadata": {},
   "outputs": [
    {
     "name": "stdout",
     "output_type": "stream",
     "text": [
      "OBS OBS\n",
      "NICAM NICAM\n",
      "SHiELDr0.1deg FV3\n",
      "ICONr0.1deg ICON\n",
      "SAMr0.1deg SAM\n",
      "IFS IFS\n",
      "None MPAS\n",
      "ARPr0.1deg ARP\n",
      "UM UM\n",
      "SCREAMr0.1deg None\n",
      "GEOSr0.1deg GEOS\n"
     ]
    },
    {
     "data": {
      "image/png": "[encoded data removed]",
      "text/plain": [
       "<Figure size 432x288 with 2 Axes>"
      ]
     },
     "metadata": {
      "needs_background": "light"
     },
     "output_type": "display_data"
    }
   ],
   "source": [
    "plot_models = [\"OBS\", \"NICAM\", \"SHiELDr0.1deg\", \"ICONr0.1deg\", \"SAMr0.1deg\", \"IFS\", None, \n",
    "               \"ARPr0.1deg\",\"UM\",\"SCREAMr0.1deg\", \"GEOSr0.1deg\"]\n",
    "plot1_models = [\"OBS\", \"NICAM\", \"FV3\", \"ICON\", \"SAM\", \"IFS\", \"MPAS\", \n",
    "               \"ARP\",\"UM\",None, \"GEOS\"]\n",
    "markers=['o','D','v','^','s','<','>','.','*','p','P']\n",
    "fig, [ax,leg] = plt.subplots(1,2, figsize=(6,4))\n",
    "for i in range(len(plot_models)):\n",
    "    print(plot_models[i], plot1_models[i])\n",
    "    if plot_models[i] is not None:\n",
    "        model_name = plot_models[i].split(\"r\")[0]\n",
    "        if plot1_models[i] is not None:\n",
    "            ax.plot([2,1],[olr_means[plot_models[i]],olr1_means[plot1_models[i]]], \n",
    "                    marker=markers[i], markersize=10, linewidth=2, mec='k', \n",
    "                    color=colors[model_name], label=model_name)\n",
    "        else:\n",
    "            ax.scatter([2],[olr_means[plot_models[i]]], \n",
    "                       marker=markers[i], s=100, c=colors[model_name], edgecolors='k', label=model_name)\n",
    "    else:\n",
    "        model_name = plot1_models[i]\n",
    "        ax.scatter([1],[olr1_means[plot1_models[i]]], \n",
    "                   marker=markers[i], s=100, c=colors[model_name], edgecolors='k', label=model_name)\n",
    "    \n",
    "ax.set_ylim([180,280])\n",
    "ax.grid()\n",
    "ax.set_xlim([0,3])\n",
    "ax.set_xticks([1,2])\n",
    "ax.set_xticklabels([\"DY1\",\"DY2\"])\n",
    "ax.set_ylabel(\"Mean OLR (W/m2)\")\n",
    "ax.set_title(\"TWP\")\n",
    "\n",
    "h, l = ax.get_legend_handles_labels()\n",
    "leg.legend(h, l, loc=6)\n",
    "leg.axis(\"off\")\n",
    "\n",
    "plt.savefig(\"../plots/TWP/mean_OLR.png\",transparent=True)\n",
    "plt.show()\n"
   ]
  },
  {
   "cell_type": "code",
   "execution_count": null,
   "id": "d1f76d14-763e-4b87-b3a3-b0a016dae84a",
   "metadata": {},
   "outputs": [],
   "source": []
  },
  {
   "cell_type": "code",
   "execution_count": null,
   "id": "5945ecda-8aea-4890-b2fb-6819a4d2cd38",
   "metadata": {},
   "outputs": [],
   "source": []
  }
 ],
 "metadata": {
  "kernelspec": {
   "display_name": "Python 3 (based on the module python3/2022.01)",
   "language": "python",
   "name": "python3_2022_01"
  },
  "language_info": {
   "codemirror_mode": {
    "name": "ipython",
    "version": 3
   },
   "file_extension": ".py",
   "mimetype": "text/x-python",
   "name": "python",
   "nbconvert_exporter": "python",
   "pygments_lexer": "ipython3",
   "version": "3.9.9"
  }
 },
 "nbformat": 4,
 "nbformat_minor": 5
}
