{
 "cells": [
  {
   "cell_type": "code",
   "execution_count": 1,
   "metadata": {},
   "outputs": [],
   "source": [
    "import xarray as xr\n",
    "import matplotlib.pyplot as plt\n",
    "from utility import analysis_parameters as ap\n",
    "import cartopy.crs as ccrs\n",
    "import numpy as np\n",
    "\n",
    "var=\"clt\""
   ]
  },
  {
   "cell_type": "code",
   "execution_count": 9,
   "metadata": {},
   "outputs": [
    {
     "data": {
      "text/plain": [
       "[<xarray.DataArray 'clt' (time: 1, latitude: 1280, longitude: 5120)>\n",
       " [6553600 values with dtype=float32]\n",
       " Coordinates:\n",
       "   * time       (time) datetime64[ns] 2020-02-14\n",
       "   * longitude  (longitude) float32 0.03516 0.1055 0.1758 ... 359.8 359.9 360.0\n",
       "   * latitude   (latitude) float32 -29.98 -29.93 -29.88 ... 29.88 29.93 29.98\n",
       " Attributes:\n",
       "     standard_name:  cloud_area_fraction\n",
       "     long_name:      TOTAL CLOUD AMOUNT IN LW RADIATION\n",
       "     units:          1\n",
       "     cell_methods:   time: mean (interval: 1 hour)\n",
       "     origin:         cloud_area_fraction]"
      ]
     },
     "execution_count": 9,
     "metadata": {},
     "output_type": "execute_result"
    }
   ],
   "source": [
    "models = [\"UM\"]\n",
    "das = [xr.open_dataset(ap.get_timmean_file(m, var, gt=True)).clt for m in models]\n",
    "das"
   ]
  },
  {
   "cell_type": "code",
   "execution_count": 10,
   "metadata": {},
   "outputs": [
    {
     "ename": "TypeError",
     "evalue": "'GeoAxesSubplot' object is not subscriptable",
     "output_type": "error",
     "traceback": [
      "\u001b[0;31m---------------------------------------------------------------------------\u001b[0m",
      "\u001b[0;31mTypeError\u001b[0m                                 Traceback (most recent call last)",
      "Input \u001b[0;32mIn [10]\u001b[0m, in \u001b[0;36m<cell line: 7>\u001b[0;34m()\u001b[0m\n\u001b[1;32m      5\u001b[0m \u001b[38;5;66;03m# vmin, vmax = 180, 310\u001b[39;00m\n\u001b[1;32m      7\u001b[0m \u001b[38;5;28;01mfor\u001b[39;00m i, da \u001b[38;5;129;01min\u001b[39;00m \u001b[38;5;28menumerate\u001b[39m(das):\n\u001b[1;32m      8\u001b[0m     da\u001b[38;5;241m.\u001b[39misel(time\u001b[38;5;241m=\u001b[39m\u001b[38;5;241m0\u001b[39m)\u001b[38;5;241m.\u001b[39mplot(\n\u001b[0;32m----> 9\u001b[0m         ax\u001b[38;5;241m=\u001b[39m\u001b[43max\u001b[49m\u001b[43m[\u001b[49m\u001b[43mi\u001b[49m\u001b[43m]\u001b[49m,\n\u001b[1;32m     10\u001b[0m         transform\u001b[38;5;241m=\u001b[39mccrs\u001b[38;5;241m.\u001b[39mPlateCarree(),  \n\u001b[1;32m     11\u001b[0m         cmap\u001b[38;5;241m=\u001b[39mcmap,\n\u001b[1;32m     12\u001b[0m         vmin\u001b[38;5;241m=\u001b[39mvmin, vmax\u001b[38;5;241m=\u001b[39mvmax,\n\u001b[1;32m     13\u001b[0m         cbar_kwargs\u001b[38;5;241m=\u001b[39m{\u001b[38;5;124m\"\u001b[39m\u001b[38;5;124morientation\u001b[39m\u001b[38;5;124m\"\u001b[39m: \u001b[38;5;124m\"\u001b[39m\u001b[38;5;124mvertical\u001b[39m\u001b[38;5;124m\"\u001b[39m, \u001b[38;5;124m\"\u001b[39m\u001b[38;5;124mshrink\u001b[39m\u001b[38;5;124m\"\u001b[39m: \u001b[38;5;241m0.7\u001b[39m},\n\u001b[1;32m     14\u001b[0m         robust\u001b[38;5;241m=\u001b[39m\u001b[38;5;28;01mTrue\u001b[39;00m\n\u001b[1;32m     15\u001b[0m     )\n\u001b[1;32m     16\u001b[0m     ax[i]\u001b[38;5;241m.\u001b[39mcoastlines() \n\u001b[1;32m     17\u001b[0m     ax[i]\u001b[38;5;241m.\u001b[39mset_xticks(np\u001b[38;5;241m.\u001b[39marange(\u001b[38;5;241m-\u001b[39m\u001b[38;5;241m180\u001b[39m,\u001b[38;5;241m181\u001b[39m,\u001b[38;5;241m30\u001b[39m))\n",
      "\u001b[0;31mTypeError\u001b[0m: 'GeoAxesSubplot' object is not subscriptable"
     ]
    },
    {
     "data": {
      "image/png": "[encoded data removed]",
      "text/plain": [
       "<Figure size 864x720 with 1 Axes>"
      ]
     },
     "metadata": {
      "needs_background": "light"
     },
     "output_type": "display_data"
    }
   ],
   "source": [
    "fig, ax = plt.subplots(len(models),1, figsize=(12,10), \n",
    "                       subplot_kw={'projection':ccrs.PlateCarree(central_longitude=180)} )\n",
    "cmap = \"YlGnBu_r\"\n",
    "vmin, vmax = 0, 0.8\n",
    "# vmin, vmax = 180, 310\n",
    "\n",
    "for i, da in enumerate(das):\n",
    "    da.isel(time=0).plot(\n",
    "        ax=ax[i],\n",
    "        transform=ccrs.PlateCarree(),  \n",
    "        cmap=cmap,\n",
    "        vmin=vmin, vmax=vmax,\n",
    "        cbar_kwargs={\"orientation\": \"vertical\", \"shrink\": 0.7},\n",
    "        robust=True\n",
    "    )\n",
    "    ax[i].coastlines() \n",
    "    ax[i].set_xticks(np.arange(-180,181,30))\n",
    "    ax[i].set_xticklabels([0,30,60,90,120,150,180,-150,-120,-90,-60,-30,0])\n",
    "    ax[i].set_yticks(np.arange(-30,31,10))\n",
    "    ax[i].set_title(models[i]+\" \"+var)\n",
    "    ax[i].set_xlabel(\"Lon ($^\\circ$E)\")\n",
    "    ax[i].set_ylabel(\"Lat ($^\\circ$N)\")\n",
    "plt.savefig(\"../plots/GT/timmean_{}.png\".format(var), dpi=150)\n",
    "plt.show()"
   ]
  },
  {
   "cell_type": "code",
   "execution_count": null,
   "metadata": {},
   "outputs": [],
   "source": []
  },
  {
   "cell_type": "code",
   "execution_count": null,
   "metadata": {},
   "outputs": [],
   "source": []
  }
 ],
 "metadata": {
  "kernelspec": {
   "display_name": "Python 3 (based on the module python3/2022.01)",
   "language": "python",
   "name": "python3_2022_01"
  },
  "language_info": {
   "codemirror_mode": {
    "name": "ipython",
    "version": 3
   },
   "file_extension": ".py",
   "mimetype": "text/x-python",
   "name": "python",
   "nbconvert_exporter": "python",
   "pygments_lexer": "ipython3",
   "version": "3.9.9"
  }
 },
 "nbformat": 4,
 "nbformat_minor": 4
}
