{
 "cells": [
  {
   "cell_type": "code",
   "execution_count": 4,
   "metadata": {},
   "outputs": [],
   "source": [
    "import xarray as xr\n",
    "import matplotlib.pyplot as plt\n",
    "import netCDF4 as nc\n",
    "import numpy as np\n",
    "\n",
    "from utility import analysis_parameters as ap\n",
    "\n",
    "lat0, lat1 = -5, 5\n",
    "lon0, lon1 = 143, 153\n",
    "h = \"h8\""
   ]
  },
  {
   "cell_type": "code",
   "execution_count": 5,
   "metadata": {},
   "outputs": [
    {
     "name": "stdout",
     "output_type": "stream",
     "text": [
      "/home/disk/eos12/hillmanb/scream/dyamond2/256x512/SCREAMv0.SCREAM-DY2.ne1024pg2.20201127.eam.h8.2020-01-31-00000.nc\n",
      "/home/disk/eos12/hillmanb/scream/dyamond2/256x512/SCREAMv0.SCREAM-DY2.ne1024pg2.20201127.eam.h8.2020-02-01-00000.nc\n",
      "/home/disk/eos12/hillmanb/scream/dyamond2/256x512/SCREAMv0.SCREAM-DY2.ne1024pg2.20201127.eam.h8.2020-02-02-00000.nc\n",
      "/home/disk/eos12/hillmanb/scream/dyamond2/256x512/SCREAMv0.SCREAM-DY2.ne1024pg2.20201127.eam.h8.2020-02-03-00000.nc\n",
      "/home/disk/eos12/hillmanb/scream/dyamond2/256x512/SCREAMv0.SCREAM-DY2.ne1024pg2.20201127.eam.h8.2020-02-04-00000.nc\n",
      "/home/disk/eos12/hillmanb/scream/dyamond2/256x512/SCREAMv0.SCREAM-DY2.ne1024pg2.20201127.eam.h8.2020-02-05-00000.nc\n",
      "/home/disk/eos12/hillmanb/scream/dyamond2/256x512/SCREAMv0.SCREAM-DY2.ne1024pg2.20201127.eam.h8.2020-02-06-00000.nc\n",
      "/home/disk/eos12/hillmanb/scream/dyamond2/256x512/SCREAMv0.SCREAM-DY2.ne1024pg2.20201127.eam.h8.2020-02-07-00000.nc\n",
      "/home/disk/eos12/hillmanb/scream/dyamond2/256x512/SCREAMv0.SCREAM-DY2.ne1024pg2.20201127.eam.h8.2020-02-08-00000.nc\n",
      "/home/disk/eos12/hillmanb/scream/dyamond2/256x512/SCREAMv0.SCREAM-DY2.ne1024pg2.20201127.eam.h8.2020-02-09-00000.nc\n",
      "/home/disk/eos12/hillmanb/scream/dyamond2/256x512/SCREAMv0.SCREAM-DY2.ne1024pg2.20201127.eam.h8.2020-02-10-00000.nc\n",
      "/home/disk/eos12/hillmanb/scream/dyamond2/256x512/SCREAMv0.SCREAM-DY2.ne1024pg2.20201127.eam.h8.2020-02-11-00000.nc\n",
      "/home/disk/eos12/hillmanb/scream/dyamond2/256x512/SCREAMv0.SCREAM-DY2.ne1024pg2.20201127.eam.h8.2020-02-12-00000.nc\n",
      "/home/disk/eos12/hillmanb/scream/dyamond2/256x512/SCREAMv0.SCREAM-DY2.ne1024pg2.20201127.eam.h8.2020-02-13-00000.nc\n",
      "/home/disk/eos12/hillmanb/scream/dyamond2/256x512/SCREAMv0.SCREAM-DY2.ne1024pg2.20201127.eam.h8.2020-02-14-00000.nc\n",
      "/home/disk/eos12/hillmanb/scream/dyamond2/256x512/SCREAMv0.SCREAM-DY2.ne1024pg2.20201127.eam.h8.2020-02-15-00000.nc\n",
      "/home/disk/eos12/hillmanb/scream/dyamond2/256x512/SCREAMv0.SCREAM-DY2.ne1024pg2.20201127.eam.h8.2020-02-16-00000.nc\n",
      "/home/disk/eos12/hillmanb/scream/dyamond2/256x512/SCREAMv0.SCREAM-DY2.ne1024pg2.20201127.eam.h8.2020-02-17-00000.nc\n",
      "/home/disk/eos12/hillmanb/scream/dyamond2/256x512/SCREAMv0.SCREAM-DY2.ne1024pg2.20201127.eam.h8.2020-02-18-00000.nc\n",
      "/home/disk/eos12/hillmanb/scream/dyamond2/256x512/SCREAMv0.SCREAM-DY2.ne1024pg2.20201127.eam.h8.2020-02-19-00000.nc\n",
      "/home/disk/eos12/hillmanb/scream/dyamond2/256x512/SCREAMv0.SCREAM-DY2.ne1024pg2.20201127.eam.h8.2020-02-20-00000.nc\n",
      "/home/disk/eos12/hillmanb/scream/dyamond2/256x512/SCREAMv0.SCREAM-DY2.ne1024pg2.20201127.eam.h8.2020-02-21-00000.nc\n",
      "/home/disk/eos12/hillmanb/scream/dyamond2/256x512/SCREAMv0.SCREAM-DY2.ne1024pg2.20201127.eam.h8.2020-02-22-00000.nc\n",
      "/home/disk/eos12/hillmanb/scream/dyamond2/256x512/SCREAMv0.SCREAM-DY2.ne1024pg2.20201127.eam.h8.2020-02-23-00000.nc\n",
      "/home/disk/eos12/hillmanb/scream/dyamond2/256x512/SCREAMv0.SCREAM-DY2.ne1024pg2.20201127.eam.h8.2020-02-24-00000.nc\n",
      "/home/disk/eos12/hillmanb/scream/dyamond2/256x512/SCREAMv0.SCREAM-DY2.ne1024pg2.20201127.eam.h8.2020-02-25-00000.nc\n",
      "/home/disk/eos12/hillmanb/scream/dyamond2/256x512/SCREAMv0.SCREAM-DY2.ne1024pg2.20201127.eam.h8.2020-02-26-00000.nc\n",
      "/home/disk/eos12/hillmanb/scream/dyamond2/256x512/SCREAMv0.SCREAM-DY2.ne1024pg2.20201127.eam.h8.2020-02-27-00000.nc\n",
      "/home/disk/eos12/hillmanb/scream/dyamond2/256x512/SCREAMv0.SCREAM-DY2.ne1024pg2.20201127.eam.h8.2020-02-28-00000.nc\n"
     ]
    }
   ],
   "source": [
    "feb = [ \"02-%02d\"%(i+1) for i in range(28) ]\n",
    "dates = [\"01-30\", \"01-31\"]+ feb\n",
    "ds = xr.open_dataset(ap.test_data_file_name(h, dates[0])).drop([\"P3_input_dim\",\"P3_output_dim\",\"ilev\",\"lev\",\"swband\",\"lwband\", \"slat\",\"slon\"])\n",
    "ds = ds.sel(lat=slice(lat0, lat1)).sel(lon=slice(lon0,lon1))\n",
    "\n",
    "for date in dates[1:]:\n",
    "    file = ap.test_data_file_name(h, date)\n",
    "    print(file)\n",
    "    ds_1 = xr.open_dataset(file).drop([\"P3_input_dim\",\"P3_output_dim\",\"swband\",\"lwband\", \"slat\",\"slon\"])\n",
    "    ds_1 = ds_1.sel(lat=slice(lat0, lat1)).sel(lon=slice(lon0,lon1))\n",
    "    ds = xr.combine_by_coords([ds, ds_1], combine_attrs=\"drop\")\n",
    "    # print(ds)\n",
    "\n",
    "\n"
   ]
  },
  {
   "cell_type": "code",
   "execution_count": 6,
   "metadata": {},
   "outputs": [],
   "source": [
    "# for joint hist\n",
    "## h7\n",
    "cldice = ds[\"CLDICE\"]\n",
    "cldliq = ds[\"CLDLIQ\"]\n",
    "## h8\n",
    "cldfrac = ds[\"CLOUD\"]\n",
    "omega = ds[\"OMEGA\"]"
   ]
  },
  {
   "cell_type": "markdown",
   "metadata": {},
   "source": [
    "## 2D variables"
   ]
  },
  {
   "cell_type": "code",
   "execution_count": null,
   "metadata": {},
   "outputs": [],
   "source": [
    "#plotting\n",
    "fig, ax = plt.subplots(1,1,figsize=(6,4))\n",
    "log=False\n",
    "t=0\n",
    "\n",
    "if h==\"h0\":\n",
    "    ## h0\n",
    "    bins=np.linspace(0.01,1,20)\n",
    "    vars = [\"CLDTOT\",\"CLDHGH\",\"CLDMED\",\"CLDLOW\"]\n",
    "    bins = np.linspace(-5,1,25)\n",
    "    vars = [\"TMCLDICE\", \"TMCLDLIQ\", \"TMCLDRIM\", \"TMRAINQM\"]\n",
    "    vmin, vmax = -5, 1\n",
    "    vars = [\"CAPE\", \"CIN\"]\n",
    "    bins=30\n",
    "elif h==\"h1\":\n",
    "    ## h1\n",
    "    vars = [\"LHFLX\", \"SHFLX\"]\n",
    "    vars = [\"PRECSL\", \"PRECT\"]\n",
    "    vars = [\"QREFHT\"]\n",
    "    vars = [\"TREFHT\"]\n",
    "    vars = [\"TAUX\", \"TAUY\"]\n",
    "    vars =  [\"WINDSPD_10M\"]\n",
    "    vars = [\"PS\"]\n",
    "    bins=30\n",
    "elif h==\"h2\":\n",
    "    ## h2\n",
    "    # vars = [\"FLDS\", \"FLNS\", \"FSDS\", \"FSNS\"]\n",
    "    # vars = [\"FLNT\", \"FLNTC\"]\n",
    "    vars = [\"FSNTOA\", \"FSNTOAC\"]\n",
    "    bins=30\n",
    "elif h==\"h3\":\n",
    "    ## h3\n",
    "    vars = [\"OMEGA200\", \"OMEGA500\", \"OMEGA700\", \"OMEGA850\"]\n",
    "    bins = [-2.5,-2,-1.5,-1,-0.8,-0.6,-0.4,-0.2,0,0.2,0.4,0.6,0.8,1,1.5,2,2.5]\n",
    "    cell_text=[]\n",
    "    # vars = [\"RH200\", \"RH500\", \"RH700\", \"RH850\"]\n",
    "    # vars = [\"Z200\", \"Z500\", \"Z700\", \"Z850\"]\n",
    "    # bins=30\n",
    "elif h==\"h4\":\n",
    "    ## h4 \n",
    "    vars = [\"TMNUMICE\", \"TMNUMLIQ\", \"TMNUMRAI\"]\n",
    "    bins = np.linspace(-3,12)\n",
    "\n",
    "#histogram\n",
    "for v in vars:\n",
    "    if log:\n",
    "        np.log10(ds[v]).plot.hist(bins=bins, ax=ax, density=False, histtype=\"step\", label=v)\n",
    "    else:\n",
    "        if v[:6]==\"FSNTOA\":\n",
    "            ds[v].where(ds[v]>0).plot.hist(bins=bins, ax=ax, density=False, histtype=\"step\", label=v)\n",
    "            plt.annotate(\"Excludes zeros\", xy=(0.01,0.95), xycoords=\"axes fraction\")\n",
    "        else:\n",
    "            ds[v].plot.hist(bins=bins, ax=ax, density=False, histtype=\"step\", label=v)#, xticks=bins)\n",
    "            # cell_text.append([np.nanmin(ds[v]), np.nanmean(ds[v]), np.nanmax(ds[v])])\n",
    "plt.legend()\n",
    "if log:\n",
    "    plt.title(\"Histogram - 30 days (log scale)\")\n",
    "else:\n",
    "    plt.title(\"Histogram - 30 days\")\n",
    "    # plt.table(cellText=cell_text, colLabels=[\"min\",\"mean\",\"max\"], rowLabels=vars, loc=\"top\")\n",
    "    # plt.xticks(rotation=35)\n",
    "    # plt.title(\"\")\n",
    "\n",
    "plt.show()\n",
    "\n",
    "# plot snapshot on latlon\n",
    "# fig, ax = plt.subplots(1, len(vars), figsize=(3*len(vars),3), sharey=True, sharex=True)\n",
    "# for i,axi in enumerate(ax):\n",
    "#     if log:\n",
    "#         np.log10(ds[vars[i]][t]).plot.contourf(ax=ax[i], vmin=vmin, vmax=vmax)\n",
    "#     else:\n",
    "#         ds[vars[i]][t].plot.contourf(ax=ax[i])\n",
    "#     axi.set_ylabel(\"Lat\")\n",
    "#     axi.set_xlabel(\"Lon\")\n",
    "#     axi.set_title(vars[i])\n",
    "# fig.suptitle(ds.time[t].values)\n",
    "# plt.tight_layout()\n",
    "# plt.show()"
   ]
  },
  {
   "cell_type": "code",
   "execution_count": null,
   "metadata": {},
   "outputs": [],
   "source": [
    "# vars = [\"LHFLX\", \"SHFLX\", \"PRECSL\", \"PRECT\", \"QREFHT\", \"TREFHT\", \"TAUX\", \"TAUY\", \"WINDSPD_10M\", \"PS\"]\n",
    "# vars = [\"FLDS\", \"FLNS\", \"FSDS\", \"FSNS\", \"FLNT\", \"FLNTC\", \"FSNTOA\", \"FSNTOAC\"]\n",
    "# vars = [\"OMEGA200\", \"OMEGA500\", \"OMEGA700\", \"OMEGA850\", \"RH200\", \"RH500\", \"RH700\", \"RH850\", \"Z200\", \"Z500\", \"Z700\", \"Z850\"]\n",
    "vars = [\"TMNUMICE\", \"TMNUMLIQ\", \"TMNUMRAI\"]\n",
    "\n",
    "for var in vars:\n",
    "    print(var, np.nanmean(ds[var]))"
   ]
  },
  {
   "cell_type": "markdown",
   "metadata": {},
   "source": [
    "## 3D variables"
   ]
  },
  {
   "cell_type": "code",
   "execution_count": null,
   "metadata": {},
   "outputs": [],
   "source": [
    "# monthly median profile with shaded regions as 25-75 percentiles\n",
    "## h5 : U, V\n",
    "## h7 : CLDIC, CLDLIQ\n",
    "if h==(\"h5\"):\n",
    "    var0, var1 = \"U\", \"V\"\n",
    "elif h==\"h6\":\n",
    "    var0, var1 = \"Q\", \"T\"\n",
    "elif h==\"h7\":\n",
    "    var0, var1 = \"CLDICE\", \"CLDLIQ\"\n",
    "elif h==\"h8\":\n",
    "    var0, var1 = \"CLOUD\", \"OMEGA\"\n",
    "elif h==\"h9\":\n",
    "    var0, var1 = \"EMIS\", \"TOT_ICLD_VISTAU\"\n",
    "\n",
    "if (h==\"h5\") or (h==\"h7\") or (h==\"h9\"):\n",
    "    plt.fill_betweenx(ds.lev, ds[var0].quantile(0.25, dim=[\"time\",\"lat\",\"lon\"]), ds[var0].quantile(0.75, dim=[\"time\",\"lat\",\"lon\"]), color=\"r\", alpha=0.3)\n",
    "    plt.fill_betweenx(ds.lev, ds[var1].quantile(0.25, dim=[\"time\",\"lat\",\"lon\"]), ds[var1].quantile(0.75, dim=[\"time\",\"lat\",\"lon\"]), color=\"b\", alpha=0.3)\n",
    "    plt.plot(ds[var0].median(dim=[\"time\",\"lat\",\"lon\"]), ds.lev, \"r\", label=var0)\n",
    "    plt.plot(ds[var1].median(dim=[\"time\",\"lat\",\"lon\"]), ds.lev, \"b\", label=var1)\n",
    "    plt.ylim([1000,70])\n",
    "    plt.yscale(\"log\")\n",
    "    plt.ylabel(\"Pressure (mb)\")\n",
    "    plt.xlabel(ds[var0].units)\n",
    "    # plt.xscale(\"log\")\n",
    "    plt.legend()\n",
    "    plt.title(\"30-day, 25, 50, and 75 quatiles, TWP\")\n",
    "    plt.show()\n",
    "else:\n",
    "    # h6 : Q, T\n",
    "    # h8 : CLOUD, OMEGA\n",
    "    fig, ax = plt.subplots(1,1, figsize=(4,5))\n",
    "    ax.fill_betweenx(ds.lev, ds[var0].quantile(0.25, dim=[\"time\",\"lat\",\"lon\"]), ds[var0].quantile(0.75, dim=[\"time\",\"lat\",\"lon\"]), color=\"r\", alpha=0.3)\n",
    "    axt = ax.twiny()\n",
    "    axt.fill_betweenx(ds.lev, ds[var1].quantile(0.25, dim=[\"time\",\"lat\",\"lon\"]), ds[var1].quantile(0.75, dim=[\"time\",\"lat\",\"lon\"]), color=\"b\", alpha=0.3)\n",
    "    ax.plot(ds[var0].median(dim=[\"time\",\"lat\",\"lon\"]), ds.lev, \"r\", label=var0+\" (\"+ds[var0].units+\")\")\n",
    "    axt.plot(ds[var1].median(dim=[\"time\",\"lat\",\"lon\"]), ds.lev, \"b\", label=var1+\" (\"+ds[var1].units+\")\")\n",
    "    ax.set_ylim([1000,5])\n",
    "    ax.set_yscale(\"log\")\n",
    "    ax.set_ylabel(\"Pressure (mb)\")\n",
    "    ax.set_xlabel(\"\")\n",
    "    fig.legend(loc=5)\n",
    "    ax.set_title(\"30-day, 25, 50, and 75 quatiles, TWP\")\n",
    "    plt.show()"
   ]
  },
  {
   "cell_type": "markdown",
   "metadata": {},
   "source": [
    "## Joint histogram of cloud fraction and cloud ice"
   ]
  },
  {
   "cell_type": "code",
   "execution_count": 52,
   "metadata": {},
   "outputs": [],
   "source": [
    "jhist, xedges, yedges = np.histogram2d((cldliq.values.flatten()), cldfrac.values.flatten(), bins=[np.logspace(-5,1,30),np.linspace(0,1,40)])"
   ]
  },
  {
   "cell_type": "code",
   "execution_count": 53,
   "metadata": {},
   "outputs": [
    {
     "data": {
      "image/png": "[encoded data removed]",
      "text/plain": [
       "<Figure size 432x288 with 2 Axes>"
      ]
     },
     "metadata": {
      "needs_background": "light"
     },
     "output_type": "display_data"
    }
   ],
   "source": [
    "X, Y = np.meshgrid(xedges, yedges)\n",
    "plt.pcolormesh(X,Y, jhist.T, cmap=\"YlGnBu\")\n",
    "# plt.ylim([0,0.6])\n",
    "plt.xlabel(\"cldice - kg/kg\")\n",
    "# plt.ylabel(\"omega - Pa/s\")\n",
    "plt.ylabel(\"cld frac\")\n",
    "plt.xscale(\"log\")\n",
    "plt.colorbar(label=\"counts\")\n",
    "plt.show()"
   ]
  },
  {
   "cell_type": "code",
   "execution_count": null,
   "metadata": {},
   "outputs": [],
   "source": []
  }
 ],
 "metadata": {
  "interpreter": {
   "hash": "bc42e7b89e00cd8b4696379c92f59a09eac54229b2881c2ad51be9d877ac17c7"
  },
  "kernelspec": {
   "display_name": "Python 3",
   "language": "python",
   "name": "python3"
  },
  "language_info": {
   "codemirror_mode": {
    "name": "ipython",
    "version": 3
   },
   "file_extension": ".py",
   "mimetype": "text/x-python",
   "name": "python",
   "nbconvert_exporter": "python",
   "pygments_lexer": "ipython3",
   "version": "3.8.11"
  }
 },
 "nbformat": 4,
 "nbformat_minor": 2
}
