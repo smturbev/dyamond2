{
 "cells": [
  {
   "cell_type": "code",
   "execution_count": 6,
   "id": "28115060-332f-43f0-bf83-12b930544a75",
   "metadata": {},
   "outputs": [],
   "source": [
    "import matplotlib.pyplot as plt\n",
    "from matplotlib import ticker, cm\n",
    "import analysis_parameters as ap\n",
    "import numpy as np\n",
    "\n",
    "colors = ap.COLORS"
   ]
  },
  {
   "cell_type": "code",
   "execution_count": 7,
   "id": "fb625174-6caf-42a6-9281-9a895091e035",
   "metadata": {},
   "outputs": [],
   "source": [
    "models = [\"NICAM\",   \"FV3\",     \"ICON\",    \"SCREAM\", \"UM\",      \"SAM\",     \"GEOS\",    \n",
    "          \"ARPNH\",   \"IFS\",     \"MPAS\",    \"OBS\"]\n",
    "color_ = [\"#e4a2ce\", \"#F5793A\", \"#85C0F9\", \"#5569e0\",\"#EE442F\", \"#2eabac\", \"#951b6f\", \n",
    "          \"#CCBE9F\", \"#ABC3C9\", \"#44749D\", \"#000000\"]\n",
    "# colors=dict(zip(models, color_))"
   ]
  },
  {
   "cell_type": "code",
   "execution_count": 8,
   "id": "e827e282-ca44-439e-a322-ba03bc11a96f",
   "metadata": {},
   "outputs": [
    {
     "data": {
      "text/plain": [
       "'#F5793A'"
      ]
     },
     "execution_count": 8,
     "metadata": {},
     "output_type": "execute_result"
    }
   ],
   "source": [
    "colors[\"FV3\"]"
   ]
  },
  {
   "cell_type": "code",
   "execution_count": 9,
   "id": "e47e74bc-74af-4744-9db4-a20b5807e671",
   "metadata": {},
   "outputs": [
    {
     "data": {
      "image/png": "[encoded data removed]",
      "text/plain": [
       "<Figure size 432x288 with 1 Axes>"
      ]
     },
     "metadata": {
      "needs_background": "light"
     },
     "output_type": "display_data"
    }
   ],
   "source": [
    "for i,m in enumerate(models):\n",
    "    plt.scatter(0.75,-i, linewidth=4, color=colors[m], label=m)\n",
    "    plt.annotate(m, xy=(1,-i-0.2), xycoords=\"data\")\n",
    "    plt.scatter(2,-i, linewidth=4, color=colors[m], label=m)\n",
    "    plt.annotate(m, xy=(2.25,-i-0.2), xycoords=\"data\")\n",
    "    plt.xlim([0,5])\n",
    "    plt.axis(\"off\")\n",
    "plt.fill_betweenx([1,-11],1.75,2.9,color=\"k\", alpha=0.2)\n",
    "plt.show()"
   ]
  },
  {
   "cell_type": "code",
   "execution_count": null,
   "id": "6f7df2f6-8ced-4c0a-9ee9-2d5b88db40a1",
   "metadata": {},
   "outputs": [],
   "source": []
  }
 ],
 "metadata": {
  "kernelspec": {
   "display_name": "Python 3 (based on the module python3/2022.01)",
   "language": "python",
   "name": "python3_2022_01"
  },
  "language_info": {
   "codemirror_mode": {
    "name": "ipython",
    "version": 3
   },
   "file_extension": ".py",
   "mimetype": "text/x-python",
   "name": "python",
   "nbconvert_exporter": "python",
   "pygments_lexer": "ipython3",
   "version": "3.9.9"
  }
 },
 "nbformat": 4,
 "nbformat_minor": 5
}
