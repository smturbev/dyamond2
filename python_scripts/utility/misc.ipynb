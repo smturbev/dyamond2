{
 "cells": [
  {
   "cell_type": "code",
   "execution_count": 1,
   "id": "dddf8b70-48aa-446d-bcf9-10e201510bd4",
   "metadata": {},
   "outputs": [],
   "source": [
    "## Get p coords for SAM from file that Peter Blossey provided (no time variation)\n",
    "# import xarray as xr\n",
    "\n",
    "# ds = xr.open_dataset(\"/work/bb1153/b380883/DYAMOND2_SAM_9216x4608x74_10s.nc\")\n",
    "\n",
    "# da = xr.DataArray(ds.p*1000, coords={\"z\":ds.z}, dims=[\"z\"], attrs={\"units\":\"Pa\",\"model\":\"gSAM\"})\n",
    "# da\n",
    "\n",
    "# ds_new = xr.Dataset({\"p\":da}, attrs={\"name\":\"gSAM pressure\", \"units\":\"Pa\"})\n",
    "# ds_new\n",
    "\n",
    "# ds_new.to_netcdf(\"/work/bb1153/b380883/SAM_p_coords.nc\")"
   ]
  },
  {
   "cell_type": "code",
   "execution_count": null,
   "id": "0ad143e3-4756-4686-9561-7cd48d65b99b",
   "metadata": {},
   "outputs": [],
   "source": []
  }
 ],
 "metadata": {
  "kernelspec": {
   "display_name": "Python 3 (based on the module python3/2022.01)",
   "language": "python",
   "name": "python3_2022_01"
  },
  "language_info": {
   "codemirror_mode": {
    "name": "ipython",
    "version": 3
   },
   "file_extension": ".py",
   "mimetype": "text/x-python",
   "name": "python",
   "nbconvert_exporter": "python",
   "pygments_lexer": "ipython3",
   "version": "3.9.9"
  }
 },
 "nbformat": 4,
 "nbformat_minor": 5
}
