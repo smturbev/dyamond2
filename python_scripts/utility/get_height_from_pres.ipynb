{
 "cells": [
  {
   "cell_type": "markdown",
   "id": "bceaaf29-b40c-4eb6-9133-768767ab933f",
   "metadata": {},
   "source": [
    "# Calculate height from pressure\n",
    "\n",
    "We need virtual temperature (calculated from cdo - see <a href=\"../sh_scripts/cdo_mul.sh\">cdo_mul.sh</a>)\n",
    "\n",
    "$$ z_2-z_1 = \\frac{287 \\ T_v}{g} \\cdot log(\\frac{p_1}{p_2}) $$\n",
    "\n",
    "where $p$ is pressure, $g = 9.8$ m/s$^2$, and $T_v$, virtual temperature, is\n",
    "\n",
    "$$ T_v = (1 + 0.61 \\ q_v) \\ T $$\n",
    "\n",
    "where $q_v$ is water vapor (specific humidity) and T is temperature. \n",
    "\n"
   ]
  },
  {
   "cell_type": "code",
   "execution_count": 1,
   "id": "ec35605b-59ec-451e-813d-73617c74a8a9",
   "metadata": {},
   "outputs": [],
   "source": [
    "import xarray as xr\n",
    "import dask\n",
    "import numpy as np\n",
    "import analysis_parameters as ap\n",
    "import matplotlib.pyplot as plt\n",
    "from dask.diagnostics import ProgressBar\n",
    "pbar = ProgressBar()\n",
    "pbar.register()"
   ]
  },
  {
   "cell_type": "code",
   "execution_count": 2,
   "id": "9659847d-79f4-49f0-ba4f-aa5bb92cc92d",
   "metadata": {},
   "outputs": [],
   "source": [
    "region=\"TWP\""
   ]
  },
  {
   "cell_type": "markdown",
   "id": "9d95535d-4de8-41a7-b163-7192c8f7e6a6",
   "metadata": {},
   "source": [
    "# SCREAM"
   ]
  },
  {
   "cell_type": "code",
   "execution_count": 3,
   "id": "522173e0-dbc4-4c43-a50b-3685e6360b6e",
   "metadata": {},
   "outputs": [
    {
     "data": {
      "text/html": [
       "<div><svg style=\"position: absolute; width: 0; height: 0; overflow: hidden\">\n",
       "<defs>\n",
       "<symbol id=\"icon-database\" viewBox=\"0 0 32 32\">\n",
       "<path d=\"M16 0c-8.837 0-16 2.239-16 5v4c0 2.761 7.163 5 16 5s16-2.239 16-5v-4c0-2.761-7.163-5-16-5z\"></path>\n",
       "<path d=\"M16 17c-8.837 0-16-2.239-16-5v6c0 2.761 7.163 5 16 5s16-2.239 16-5v-6c0 2.761-7.163 5-16 5z\"></path>\n",
       "<path d=\"M16 26c-8.837 0-16-2.239-16-5v6c0 2.761 7.163 5 16 5s16-2.239 16-5v-6c0 2.761-7.163 5-16 5z\"></path>\n",
       "</symbol>\n",
       "<symbol id=\"icon-file-text2\" viewBox=\"0 0 32 32\">\n",
       "<path d=\"M28.681 7.159c-0.694-0.947-1.662-2.053-2.724-3.116s-2.169-2.030-3.116-2.724c-1.612-1.182-2.393-1.319-2.841-1.319h-15.5c-1.378 0-2.5 1.121-2.5 2.5v27c0 1.378 1.122 2.5 2.5 2.5h23c1.378 0 2.5-1.122 2.5-2.5v-19.5c0-0.448-0.137-1.23-1.319-2.841zM24.543 5.457c0.959 0.959 1.712 1.825 2.268 2.543h-4.811v-4.811c0.718 0.556 1.584 1.309 2.543 2.268zM28 29.5c0 0.271-0.229 0.5-0.5 0.5h-23c-0.271 0-0.5-0.229-0.5-0.5v-27c0-0.271 0.229-0.5 0.5-0.5 0 0 15.499-0 15.5 0v7c0 0.552 0.448 1 1 1h7v19.5z\"></path>\n",
       "<path d=\"M23 26h-14c-0.552 0-1-0.448-1-1s0.448-1 1-1h14c0.552 0 1 0.448 1 1s-0.448 1-1 1z\"></path>\n",
       "<path d=\"M23 22h-14c-0.552 0-1-0.448-1-1s0.448-1 1-1h14c0.552 0 1 0.448 1 1s-0.448 1-1 1z\"></path>\n",
       "<path d=\"M23 18h-14c-0.552 0-1-0.448-1-1s0.448-1 1-1h14c0.552 0 1 0.448 1 1s-0.448 1-1 1z\"></path>\n",
       "</symbol>\n",
       "</defs>\n",
       "</svg>\n",
       "<style>/* CSS stylesheet for displaying xarray objects in jupyterlab.\n",
       " *\n",
       " */\n",
       "\n",
       ":root {\n",
       "  --xr-font-color0: var(--jp-content-font-color0, rgba(0, 0, 0, 1));\n",
       "  --xr-font-color2: var(--jp-content-font-color2, rgba(0, 0, 0, 0.54));\n",
       "  --xr-font-color3: var(--jp-content-font-color3, rgba(0, 0, 0, 0.38));\n",
       "  --xr-border-color: var(--jp-border-color2, #e0e0e0);\n",
       "  --xr-disabled-color: var(--jp-layout-color3, #bdbdbd);\n",
       "  --xr-background-color: var(--jp-layout-color0, white);\n",
       "  --xr-background-color-row-even: var(--jp-layout-color1, white);\n",
       "  --xr-background-color-row-odd: var(--jp-layout-color2, #eeeeee);\n",
       "}\n",
       "\n",
       "html[theme=dark],\n",
       "body.vscode-dark {\n",
       "  --xr-font-color0: rgba(255, 255, 255, 1);\n",
       "  --xr-font-color2: rgba(255, 255, 255, 0.54);\n",
       "  --xr-font-color3: rgba(255, 255, 255, 0.38);\n",
       "  --xr-border-color: #1F1F1F;\n",
       "  --xr-disabled-color: #515151;\n",
       "  --xr-background-color: #111111;\n",
       "  --xr-background-color-row-even: #111111;\n",
       "  --xr-background-color-row-odd: #313131;\n",
       "}\n",
       "\n",
       ".xr-wrap {\n",
       "  display: block !important;\n",
       "  min-width: 300px;\n",
       "  max-width: 700px;\n",
       "}\n",
       "\n",
       ".xr-text-repr-fallback {\n",
       "  /* fallback to plain text repr when CSS is not injected (untrusted notebook) */\n",
       "  display: none;\n",
       "}\n",
       "\n",
       ".xr-header {\n",
       "  padding-top: 6px;\n",
       "  padding-bottom: 6px;\n",
       "  margin-bottom: 4px;\n",
       "  border-bottom: solid 1px var(--xr-border-color);\n",
       "}\n",
       "\n",
       ".xr-header > div,\n",
       ".xr-header > ul {\n",
       "  display: inline;\n",
       "  margin-top: 0;\n",
       "  margin-bottom: 0;\n",
       "}\n",
       "\n",
       ".xr-obj-type,\n",
       ".xr-array-name {\n",
       "  margin-left: 2px;\n",
       "  margin-right: 10px;\n",
       "}\n",
       "\n",
       ".xr-obj-type {\n",
       "  color: var(--xr-font-color2);\n",
       "}\n",
       "\n",
       ".xr-sections {\n",
       "  padding-left: 0 !important;\n",
       "  display: grid;\n",
       "  grid-template-columns: 150px auto auto 1fr 20px 20px;\n",
       "}\n",
       "\n",
       ".xr-section-item {\n",
       "  display: contents;\n",
       "}\n",
       "\n",
       ".xr-section-item input {\n",
       "  display: none;\n",
       "}\n",
       "\n",
       ".xr-section-item input + label {\n",
       "  color: var(--xr-disabled-color);\n",
       "}\n",
       "\n",
       ".xr-section-item input:enabled + label {\n",
       "  cursor: pointer;\n",
       "  color: var(--xr-font-color2);\n",
       "}\n",
       "\n",
       ".xr-section-item input:enabled + label:hover {\n",
       "  color: var(--xr-font-color0);\n",
       "}\n",
       "\n",
       ".xr-section-summary {\n",
       "  grid-column: 1;\n",
       "  color: var(--xr-font-color2);\n",
       "  font-weight: 500;\n",
       "}\n",
       "\n",
       ".xr-section-summary > span {\n",
       "  display: inline-block;\n",
       "  padding-left: 0.5em;\n",
       "}\n",
       "\n",
       ".xr-section-summary-in:disabled + label {\n",
       "  color: var(--xr-font-color2);\n",
       "}\n",
       "\n",
       ".xr-section-summary-in + label:before {\n",
       "  display: inline-block;\n",
       "  content: '►';\n",
       "  font-size: 11px;\n",
       "  width: 15px;\n",
       "  text-align: center;\n",
       "}\n",
       "\n",
       ".xr-section-summary-in:disabled + label:before {\n",
       "  color: var(--xr-disabled-color);\n",
       "}\n",
       "\n",
       ".xr-section-summary-in:checked + label:before {\n",
       "  content: '▼';\n",
       "}\n",
       "\n",
       ".xr-section-summary-in:checked + label > span {\n",
       "  display: none;\n",
       "}\n",
       "\n",
       ".xr-section-summary,\n",
       ".xr-section-inline-details {\n",
       "  padding-top: 4px;\n",
       "  padding-bottom: 4px;\n",
       "}\n",
       "\n",
       ".xr-section-inline-details {\n",
       "  grid-column: 2 / -1;\n",
       "}\n",
       "\n",
       ".xr-section-details {\n",
       "  display: none;\n",
       "  grid-column: 1 / -1;\n",
       "  margin-bottom: 5px;\n",
       "}\n",
       "\n",
       ".xr-section-summary-in:checked ~ .xr-section-details {\n",
       "  display: contents;\n",
       "}\n",
       "\n",
       ".xr-array-wrap {\n",
       "  grid-column: 1 / -1;\n",
       "  display: grid;\n",
       "  grid-template-columns: 20px auto;\n",
       "}\n",
       "\n",
       ".xr-array-wrap > label {\n",
       "  grid-column: 1;\n",
       "  vertical-align: top;\n",
       "}\n",
       "\n",
       ".xr-preview {\n",
       "  color: var(--xr-font-color3);\n",
       "}\n",
       "\n",
       ".xr-array-preview,\n",
       ".xr-array-data {\n",
       "  padding: 0 5px !important;\n",
       "  grid-column: 2;\n",
       "}\n",
       "\n",
       ".xr-array-data,\n",
       ".xr-array-in:checked ~ .xr-array-preview {\n",
       "  display: none;\n",
       "}\n",
       "\n",
       ".xr-array-in:checked ~ .xr-array-data,\n",
       ".xr-array-preview {\n",
       "  display: inline-block;\n",
       "}\n",
       "\n",
       ".xr-dim-list {\n",
       "  display: inline-block !important;\n",
       "  list-style: none;\n",
       "  padding: 0 !important;\n",
       "  margin: 0;\n",
       "}\n",
       "\n",
       ".xr-dim-list li {\n",
       "  display: inline-block;\n",
       "  padding: 0;\n",
       "  margin: 0;\n",
       "}\n",
       "\n",
       ".xr-dim-list:before {\n",
       "  content: '(';\n",
       "}\n",
       "\n",
       ".xr-dim-list:after {\n",
       "  content: ')';\n",
       "}\n",
       "\n",
       ".xr-dim-list li:not(:last-child):after {\n",
       "  content: ',';\n",
       "  padding-right: 5px;\n",
       "}\n",
       "\n",
       ".xr-has-index {\n",
       "  font-weight: bold;\n",
       "}\n",
       "\n",
       ".xr-var-list,\n",
       ".xr-var-item {\n",
       "  display: contents;\n",
       "}\n",
       "\n",
       ".xr-var-item > div,\n",
       ".xr-var-item label,\n",
       ".xr-var-item > .xr-var-name span {\n",
       "  background-color: var(--xr-background-color-row-even);\n",
       "  margin-bottom: 0;\n",
       "}\n",
       "\n",
       ".xr-var-item > .xr-var-name:hover span {\n",
       "  padding-right: 5px;\n",
       "}\n",
       "\n",
       ".xr-var-list > li:nth-child(odd) > div,\n",
       ".xr-var-list > li:nth-child(odd) > label,\n",
       ".xr-var-list > li:nth-child(odd) > .xr-var-name span {\n",
       "  background-color: var(--xr-background-color-row-odd);\n",
       "}\n",
       "\n",
       ".xr-var-name {\n",
       "  grid-column: 1;\n",
       "}\n",
       "\n",
       ".xr-var-dims {\n",
       "  grid-column: 2;\n",
       "}\n",
       "\n",
       ".xr-var-dtype {\n",
       "  grid-column: 3;\n",
       "  text-align: right;\n",
       "  color: var(--xr-font-color2);\n",
       "}\n",
       "\n",
       ".xr-var-preview {\n",
       "  grid-column: 4;\n",
       "}\n",
       "\n",
       ".xr-var-name,\n",
       ".xr-var-dims,\n",
       ".xr-var-dtype,\n",
       ".xr-preview,\n",
       ".xr-attrs dt {\n",
       "  white-space: nowrap;\n",
       "  overflow: hidden;\n",
       "  text-overflow: ellipsis;\n",
       "  padding-right: 10px;\n",
       "}\n",
       "\n",
       ".xr-var-name:hover,\n",
       ".xr-var-dims:hover,\n",
       ".xr-var-dtype:hover,\n",
       ".xr-attrs dt:hover {\n",
       "  overflow: visible;\n",
       "  width: auto;\n",
       "  z-index: 1;\n",
       "}\n",
       "\n",
       ".xr-var-attrs,\n",
       ".xr-var-data {\n",
       "  display: none;\n",
       "  background-color: var(--xr-background-color) !important;\n",
       "  padding-bottom: 5px !important;\n",
       "}\n",
       "\n",
       ".xr-var-attrs-in:checked ~ .xr-var-attrs,\n",
       ".xr-var-data-in:checked ~ .xr-var-data {\n",
       "  display: block;\n",
       "}\n",
       "\n",
       ".xr-var-data > table {\n",
       "  float: right;\n",
       "}\n",
       "\n",
       ".xr-var-name span,\n",
       ".xr-var-data,\n",
       ".xr-attrs {\n",
       "  padding-left: 25px !important;\n",
       "}\n",
       "\n",
       ".xr-attrs,\n",
       ".xr-var-attrs,\n",
       ".xr-var-data {\n",
       "  grid-column: 1 / -1;\n",
       "}\n",
       "\n",
       "dl.xr-attrs {\n",
       "  padding: 0;\n",
       "  margin: 0;\n",
       "  display: grid;\n",
       "  grid-template-columns: 125px auto;\n",
       "}\n",
       "\n",
       ".xr-attrs dt,\n",
       ".xr-attrs dd {\n",
       "  padding: 0;\n",
       "  margin: 0;\n",
       "  float: left;\n",
       "  padding-right: 10px;\n",
       "  width: auto;\n",
       "}\n",
       "\n",
       ".xr-attrs dt {\n",
       "  font-weight: normal;\n",
       "  grid-column: 1;\n",
       "}\n",
       "\n",
       ".xr-attrs dt:hover span {\n",
       "  display: inline-block;\n",
       "  background: var(--xr-background-color);\n",
       "  padding-right: 10px;\n",
       "}\n",
       "\n",
       ".xr-attrs dd {\n",
       "  grid-column: 2;\n",
       "  white-space: pre-wrap;\n",
       "  word-break: break-all;\n",
       "}\n",
       "\n",
       ".xr-icon-database,\n",
       ".xr-icon-file-text2 {\n",
       "  display: inline-block;\n",
       "  vertical-align: middle;\n",
       "  width: 1em;\n",
       "  height: 1.5em !important;\n",
       "  stroke-width: 0;\n",
       "  stroke: currentColor;\n",
       "  fill: currentColor;\n",
       "}\n",
       "</style><pre class='xr-text-repr-fallback'>&lt;xarray.DataArray &#x27;hus&#x27; (time: 240, lev: 128, ncol: 61250)&gt;\n",
       "dask.array&lt;open_dataset-fe3b5d47b8894a280626a57674defc3chus, shape=(240, 128, 61250), dtype=float32, chunksize=(100, 128, 1000), chunktype=numpy.ndarray&gt;\n",
       "Coordinates:\n",
       "  * time     (time) object 2020-01-30 00:00:00 ... 2020-02-28 21:00:00\n",
       "    lon      (ncol) float64 dask.array&lt;chunksize=(1000,), meta=np.ndarray&gt;\n",
       "    lat      (ncol) float64 dask.array&lt;chunksize=(1000,), meta=np.ndarray&gt;\n",
       "  * lev      (lev) float64 2.58 3.23 3.88 4.597 ... 987.2 991.0 994.9 998.5\n",
       "Dimensions without coordinates: ncol\n",
       "Attributes:\n",
       "    standard_name:  specific_humidity\n",
       "    long_name:      Specific humidity\n",
       "    units:          kg kg-1\n",
       "    CDI_grid_type:  unstructured\n",
       "    mdims:          1\n",
       "    origin:         Q</pre><div class='xr-wrap' style='display:none'><div class='xr-header'><div class='xr-obj-type'>xarray.DataArray</div><div class='xr-array-name'>'hus'</div><ul class='xr-dim-list'><li><span class='xr-has-index'>time</span>: 240</li><li><span class='xr-has-index'>lev</span>: 128</li><li><span>ncol</span>: 61250</li></ul></div><ul class='xr-sections'><li class='xr-section-item'><div class='xr-array-wrap'><input id='section-3de0763f-8f77-458c-bcb3-a570078dded7' class='xr-array-in' type='checkbox' checked><label for='section-3de0763f-8f77-458c-bcb3-a570078dded7' title='Show/hide data repr'><svg class='icon xr-icon-database'><use xlink:href='#icon-database'></use></svg></label><div class='xr-array-preview xr-preview'><span>dask.array&lt;chunksize=(100, 128, 1000), meta=np.ndarray&gt;</span></div><div class='xr-array-data'><table>\n",
       "    <tr>\n",
       "        <td>\n",
       "            <table>\n",
       "                <thead>\n",
       "                    <tr>\n",
       "                        <td> </td>\n",
       "                        <th> Array </th>\n",
       "                        <th> Chunk </th>\n",
       "                    </tr>\n",
       "                </thead>\n",
       "                <tbody>\n",
       "                    \n",
       "                    <tr>\n",
       "                        <th> Bytes </th>\n",
       "                        <td> 7.01 GiB </td>\n",
       "                        <td> 48.83 MiB </td>\n",
       "                    </tr>\n",
       "                    \n",
       "                    <tr>\n",
       "                        <th> Shape </th>\n",
       "                        <td> (240, 128, 61250) </td>\n",
       "                        <td> (100, 128, 1000) </td>\n",
       "                    </tr>\n",
       "                    <tr>\n",
       "                        <th> Count </th>\n",
       "                        <td> 187 Tasks </td>\n",
       "                        <td> 186 Chunks </td>\n",
       "                    </tr>\n",
       "                    <tr>\n",
       "                    <th> Type </th>\n",
       "                    <td> float32 </td>\n",
       "                    <td> numpy.ndarray </td>\n",
       "                    </tr>\n",
       "                </tbody>\n",
       "            </table>\n",
       "        </td>\n",
       "        <td>\n",
       "        <svg width=\"194\" height=\"90\" style=\"stroke:rgb(0,0,0);stroke-width:1\" >\n",
       "\n",
       "  <!-- Horizontal lines -->\n",
       "  <line x1=\"10\" y1=\"0\" x2=\"24\" y2=\"14\" style=\"stroke-width:2\" />\n",
       "  <line x1=\"10\" y1=\"25\" x2=\"24\" y2=\"40\" style=\"stroke-width:2\" />\n",
       "\n",
       "  <!-- Vertical lines -->\n",
       "  <line x1=\"10\" y1=\"0\" x2=\"10\" y2=\"25\" style=\"stroke-width:2\" />\n",
       "  <line x1=\"16\" y1=\"6\" x2=\"16\" y2=\"31\" />\n",
       "  <line x1=\"22\" y1=\"12\" x2=\"22\" y2=\"37\" />\n",
       "  <line x1=\"24\" y1=\"14\" x2=\"24\" y2=\"40\" style=\"stroke-width:2\" />\n",
       "\n",
       "  <!-- Colored Rectangle -->\n",
       "  <polygon points=\"10.0,0.0 24.9485979497544,14.948597949754403 24.9485979497544,40.36121446433689 10.0,25.412616514582485\" style=\"fill:#ECB172A0;stroke-width:0\"/>\n",
       "\n",
       "  <!-- Horizontal lines -->\n",
       "  <line x1=\"10\" y1=\"0\" x2=\"130\" y2=\"0\" style=\"stroke-width:2\" />\n",
       "  <line x1=\"16\" y1=\"6\" x2=\"136\" y2=\"6\" />\n",
       "  <line x1=\"22\" y1=\"12\" x2=\"142\" y2=\"12\" />\n",
       "  <line x1=\"24\" y1=\"14\" x2=\"144\" y2=\"14\" style=\"stroke-width:2\" />\n",
       "\n",
       "  <!-- Vertical lines -->\n",
       "  <line x1=\"10\" y1=\"0\" x2=\"24\" y2=\"14\" style=\"stroke-width:2\" />\n",
       "  <line x1=\"15\" y1=\"0\" x2=\"30\" y2=\"14\" />\n",
       "  <line x1=\"21\" y1=\"0\" x2=\"36\" y2=\"14\" />\n",
       "  <line x1=\"27\" y1=\"0\" x2=\"42\" y2=\"14\" />\n",
       "  <line x1=\"35\" y1=\"0\" x2=\"50\" y2=\"14\" />\n",
       "  <line x1=\"41\" y1=\"0\" x2=\"56\" y2=\"14\" />\n",
       "  <line x1=\"47\" y1=\"0\" x2=\"62\" y2=\"14\" />\n",
       "  <line x1=\"53\" y1=\"0\" x2=\"68\" y2=\"14\" />\n",
       "  <line x1=\"60\" y1=\"0\" x2=\"75\" y2=\"14\" />\n",
       "  <line x1=\"66\" y1=\"0\" x2=\"81\" y2=\"14\" />\n",
       "  <line x1=\"72\" y1=\"0\" x2=\"87\" y2=\"14\" />\n",
       "  <line x1=\"78\" y1=\"0\" x2=\"93\" y2=\"14\" />\n",
       "  <line x1=\"86\" y1=\"0\" x2=\"101\" y2=\"14\" />\n",
       "  <line x1=\"92\" y1=\"0\" x2=\"107\" y2=\"14\" />\n",
       "  <line x1=\"98\" y1=\"0\" x2=\"113\" y2=\"14\" />\n",
       "  <line x1=\"104\" y1=\"0\" x2=\"118\" y2=\"14\" />\n",
       "  <line x1=\"111\" y1=\"0\" x2=\"126\" y2=\"14\" />\n",
       "  <line x1=\"117\" y1=\"0\" x2=\"132\" y2=\"14\" />\n",
       "  <line x1=\"123\" y1=\"0\" x2=\"138\" y2=\"14\" />\n",
       "  <line x1=\"130\" y1=\"0\" x2=\"144\" y2=\"14\" style=\"stroke-width:2\" />\n",
       "\n",
       "  <!-- Colored Rectangle -->\n",
       "  <polygon points=\"10.0,0.0 130.0,0.0 144.9485979497544,14.948597949754403 24.9485979497544,14.948597949754403\" style=\"fill:#8B4903A0;stroke-width:0\"/>\n",
       "\n",
       "  <!-- Horizontal lines -->\n",
       "  <line x1=\"24\" y1=\"14\" x2=\"144\" y2=\"14\" style=\"stroke-width:2\" />\n",
       "  <line x1=\"24\" y1=\"40\" x2=\"144\" y2=\"40\" style=\"stroke-width:2\" />\n",
       "\n",
       "  <!-- Vertical lines -->\n",
       "  <line x1=\"24\" y1=\"14\" x2=\"24\" y2=\"40\" style=\"stroke-width:2\" />\n",
       "  <line x1=\"30\" y1=\"14\" x2=\"30\" y2=\"40\" />\n",
       "  <line x1=\"36\" y1=\"14\" x2=\"36\" y2=\"40\" />\n",
       "  <line x1=\"42\" y1=\"14\" x2=\"42\" y2=\"40\" />\n",
       "  <line x1=\"50\" y1=\"14\" x2=\"50\" y2=\"40\" />\n",
       "  <line x1=\"56\" y1=\"14\" x2=\"56\" y2=\"40\" />\n",
       "  <line x1=\"62\" y1=\"14\" x2=\"62\" y2=\"40\" />\n",
       "  <line x1=\"68\" y1=\"14\" x2=\"68\" y2=\"40\" />\n",
       "  <line x1=\"75\" y1=\"14\" x2=\"75\" y2=\"40\" />\n",
       "  <line x1=\"81\" y1=\"14\" x2=\"81\" y2=\"40\" />\n",
       "  <line x1=\"87\" y1=\"14\" x2=\"87\" y2=\"40\" />\n",
       "  <line x1=\"93\" y1=\"14\" x2=\"93\" y2=\"40\" />\n",
       "  <line x1=\"101\" y1=\"14\" x2=\"101\" y2=\"40\" />\n",
       "  <line x1=\"107\" y1=\"14\" x2=\"107\" y2=\"40\" />\n",
       "  <line x1=\"113\" y1=\"14\" x2=\"113\" y2=\"40\" />\n",
       "  <line x1=\"118\" y1=\"14\" x2=\"118\" y2=\"40\" />\n",
       "  <line x1=\"126\" y1=\"14\" x2=\"126\" y2=\"40\" />\n",
       "  <line x1=\"132\" y1=\"14\" x2=\"132\" y2=\"40\" />\n",
       "  <line x1=\"138\" y1=\"14\" x2=\"138\" y2=\"40\" />\n",
       "  <line x1=\"144\" y1=\"14\" x2=\"144\" y2=\"40\" style=\"stroke-width:2\" />\n",
       "\n",
       "  <!-- Colored Rectangle -->\n",
       "  <polygon points=\"24.9485979497544,14.948597949754403 144.9485979497544,14.948597949754403 144.9485979497544,40.36121446433689 24.9485979497544,40.36121446433689\" style=\"fill:#8B4903A0;stroke-width:0\"/>\n",
       "\n",
       "  <!-- Text -->\n",
       "  <text x=\"84.948598\" y=\"60.361214\" font-size=\"1.0rem\" font-weight=\"100\" text-anchor=\"middle\" >61250</text>\n",
       "  <text x=\"164.948598\" y=\"27.654906\" font-size=\"1.0rem\" font-weight=\"100\" text-anchor=\"middle\" transform=\"rotate(-90,164.948598,27.654906)\">128</text>\n",
       "  <text x=\"7.474299\" y=\"52.886915\" font-size=\"1.0rem\" font-weight=\"100\" text-anchor=\"middle\" transform=\"rotate(45,7.474299,52.886915)\">240</text>\n",
       "</svg>\n",
       "        </td>\n",
       "    </tr>\n",
       "</table></div></div></li><li class='xr-section-item'><input id='section-48674cf3-512d-42e6-8191-94736305ebff' class='xr-section-summary-in' type='checkbox'  checked><label for='section-48674cf3-512d-42e6-8191-94736305ebff' class='xr-section-summary' >Coordinates: <span>(4)</span></label><div class='xr-section-inline-details'></div><div class='xr-section-details'><ul class='xr-var-list'><li class='xr-var-item'><div class='xr-var-name'><span class='xr-has-index'>time</span></div><div class='xr-var-dims'>(time)</div><div class='xr-var-dtype'>object</div><div class='xr-var-preview xr-preview'>2020-01-30 00:00:00 ... 2020-02-...</div><input id='attrs-2d6875d8-7f95-45e8-9062-9bdd1e0b103b' class='xr-var-attrs-in' type='checkbox' ><label for='attrs-2d6875d8-7f95-45e8-9062-9bdd1e0b103b' title='Show/Hide attributes'><svg class='icon xr-icon-file-text2'><use xlink:href='#icon-file-text2'></use></svg></label><input id='data-6066214e-7b5a-4ecf-b7ea-94773faf2bf4' class='xr-var-data-in' type='checkbox'><label for='data-6066214e-7b5a-4ecf-b7ea-94773faf2bf4' title='Show/Hide data repr'><svg class='icon xr-icon-database'><use xlink:href='#icon-database'></use></svg></label><div class='xr-var-attrs'><dl class='xr-attrs'><dt><span>standard_name :</span></dt><dd>time</dd><dt><span>long_name :</span></dt><dd>time</dd><dt><span>bounds :</span></dt><dd>time_bnds</dd><dt><span>axis :</span></dt><dd>T</dd></dl></div><div class='xr-var-data'><pre>array([cftime.DatetimeNoLeap(2020, 1, 30, 0, 0, 0, 0, has_year_zero=True),\n",
       "       cftime.DatetimeNoLeap(2020, 1, 30, 3, 0, 0, 0, has_year_zero=True),\n",
       "       cftime.DatetimeNoLeap(2020, 1, 30, 6, 0, 0, 0, has_year_zero=True), ...,\n",
       "       cftime.DatetimeNoLeap(2020, 2, 28, 15, 0, 0, 0, has_year_zero=True),\n",
       "       cftime.DatetimeNoLeap(2020, 2, 28, 18, 0, 0, 0, has_year_zero=True),\n",
       "       cftime.DatetimeNoLeap(2020, 2, 28, 21, 0, 0, 0, has_year_zero=True)],\n",
       "      dtype=object)</pre></div></li><li class='xr-var-item'><div class='xr-var-name'><span>lon</span></div><div class='xr-var-dims'>(ncol)</div><div class='xr-var-dtype'>float64</div><div class='xr-var-preview xr-preview'>dask.array&lt;chunksize=(1000,), meta=np.ndarray&gt;</div><input id='attrs-6054a917-431e-4a7f-85cc-ed40f9b02fa4' class='xr-var-attrs-in' type='checkbox' ><label for='attrs-6054a917-431e-4a7f-85cc-ed40f9b02fa4' title='Show/Hide attributes'><svg class='icon xr-icon-file-text2'><use xlink:href='#icon-file-text2'></use></svg></label><input id='data-dd590883-b7b4-4bb1-a393-5b06a9ffc134' class='xr-var-data-in' type='checkbox'><label for='data-dd590883-b7b4-4bb1-a393-5b06a9ffc134' title='Show/Hide data repr'><svg class='icon xr-icon-database'><use xlink:href='#icon-database'></use></svg></label><div class='xr-var-attrs'><dl class='xr-attrs'><dt><span>standard_name :</span></dt><dd>longitude</dd><dt><span>long_name :</span></dt><dd>longitude</dd><dt><span>units :</span></dt><dd>degrees</dd><dt><span>bounds :</span></dt><dd>lon_bnds</dd></dl></div><div class='xr-var-data'><table>\n",
       "    <tr>\n",
       "        <td>\n",
       "            <table>\n",
       "                <thead>\n",
       "                    <tr>\n",
       "                        <td> </td>\n",
       "                        <th> Array </th>\n",
       "                        <th> Chunk </th>\n",
       "                    </tr>\n",
       "                </thead>\n",
       "                <tbody>\n",
       "                    \n",
       "                    <tr>\n",
       "                        <th> Bytes </th>\n",
       "                        <td> 478.52 kiB </td>\n",
       "                        <td> 7.81 kiB </td>\n",
       "                    </tr>\n",
       "                    \n",
       "                    <tr>\n",
       "                        <th> Shape </th>\n",
       "                        <td> (61250,) </td>\n",
       "                        <td> (1000,) </td>\n",
       "                    </tr>\n",
       "                    <tr>\n",
       "                        <th> Count </th>\n",
       "                        <td> 63 Tasks </td>\n",
       "                        <td> 62 Chunks </td>\n",
       "                    </tr>\n",
       "                    <tr>\n",
       "                    <th> Type </th>\n",
       "                    <td> float64 </td>\n",
       "                    <td> numpy.ndarray </td>\n",
       "                    </tr>\n",
       "                </tbody>\n",
       "            </table>\n",
       "        </td>\n",
       "        <td>\n",
       "        <svg width=\"170\" height=\"75\" style=\"stroke:rgb(0,0,0);stroke-width:1\" >\n",
       "\n",
       "  <!-- Horizontal lines -->\n",
       "  <line x1=\"0\" y1=\"0\" x2=\"120\" y2=\"0\" style=\"stroke-width:2\" />\n",
       "  <line x1=\"0\" y1=\"25\" x2=\"120\" y2=\"25\" style=\"stroke-width:2\" />\n",
       "\n",
       "  <!-- Vertical lines -->\n",
       "  <line x1=\"0\" y1=\"0\" x2=\"0\" y2=\"25\" style=\"stroke-width:2\" />\n",
       "  <line x1=\"5\" y1=\"0\" x2=\"5\" y2=\"25\" />\n",
       "  <line x1=\"11\" y1=\"0\" x2=\"11\" y2=\"25\" />\n",
       "  <line x1=\"17\" y1=\"0\" x2=\"17\" y2=\"25\" />\n",
       "  <line x1=\"25\" y1=\"0\" x2=\"25\" y2=\"25\" />\n",
       "  <line x1=\"31\" y1=\"0\" x2=\"31\" y2=\"25\" />\n",
       "  <line x1=\"37\" y1=\"0\" x2=\"37\" y2=\"25\" />\n",
       "  <line x1=\"43\" y1=\"0\" x2=\"43\" y2=\"25\" />\n",
       "  <line x1=\"50\" y1=\"0\" x2=\"50\" y2=\"25\" />\n",
       "  <line x1=\"56\" y1=\"0\" x2=\"56\" y2=\"25\" />\n",
       "  <line x1=\"62\" y1=\"0\" x2=\"62\" y2=\"25\" />\n",
       "  <line x1=\"68\" y1=\"0\" x2=\"68\" y2=\"25\" />\n",
       "  <line x1=\"76\" y1=\"0\" x2=\"76\" y2=\"25\" />\n",
       "  <line x1=\"82\" y1=\"0\" x2=\"82\" y2=\"25\" />\n",
       "  <line x1=\"88\" y1=\"0\" x2=\"88\" y2=\"25\" />\n",
       "  <line x1=\"94\" y1=\"0\" x2=\"94\" y2=\"25\" />\n",
       "  <line x1=\"101\" y1=\"0\" x2=\"101\" y2=\"25\" />\n",
       "  <line x1=\"107\" y1=\"0\" x2=\"107\" y2=\"25\" />\n",
       "  <line x1=\"113\" y1=\"0\" x2=\"113\" y2=\"25\" />\n",
       "  <line x1=\"120\" y1=\"0\" x2=\"120\" y2=\"25\" style=\"stroke-width:2\" />\n",
       "\n",
       "  <!-- Colored Rectangle -->\n",
       "  <polygon points=\"0.0,0.0 120.0,0.0 120.0,25.412616514582485 0.0,25.412616514582485\" style=\"fill:#8B4903A0;stroke-width:0\"/>\n",
       "\n",
       "  <!-- Text -->\n",
       "  <text x=\"60.000000\" y=\"45.412617\" font-size=\"1.0rem\" font-weight=\"100\" text-anchor=\"middle\" >61250</text>\n",
       "  <text x=\"140.000000\" y=\"12.706308\" font-size=\"1.0rem\" font-weight=\"100\" text-anchor=\"middle\" transform=\"rotate(0,140.000000,12.706308)\">1</text>\n",
       "</svg>\n",
       "        </td>\n",
       "    </tr>\n",
       "</table></div></li><li class='xr-var-item'><div class='xr-var-name'><span>lat</span></div><div class='xr-var-dims'>(ncol)</div><div class='xr-var-dtype'>float64</div><div class='xr-var-preview xr-preview'>dask.array&lt;chunksize=(1000,), meta=np.ndarray&gt;</div><input id='attrs-1f81a56c-6c27-42c6-bf30-eb1792e3a24b' class='xr-var-attrs-in' type='checkbox' ><label for='attrs-1f81a56c-6c27-42c6-bf30-eb1792e3a24b' title='Show/Hide attributes'><svg class='icon xr-icon-file-text2'><use xlink:href='#icon-file-text2'></use></svg></label><input id='data-a7c414ef-5299-46c9-ab50-d2ebf382e7bd' class='xr-var-data-in' type='checkbox'><label for='data-a7c414ef-5299-46c9-ab50-d2ebf382e7bd' title='Show/Hide data repr'><svg class='icon xr-icon-database'><use xlink:href='#icon-database'></use></svg></label><div class='xr-var-attrs'><dl class='xr-attrs'><dt><span>standard_name :</span></dt><dd>latitude</dd><dt><span>long_name :</span></dt><dd>latitude</dd><dt><span>units :</span></dt><dd>degrees</dd><dt><span>bounds :</span></dt><dd>lat_bnds</dd></dl></div><div class='xr-var-data'><table>\n",
       "    <tr>\n",
       "        <td>\n",
       "            <table>\n",
       "                <thead>\n",
       "                    <tr>\n",
       "                        <td> </td>\n",
       "                        <th> Array </th>\n",
       "                        <th> Chunk </th>\n",
       "                    </tr>\n",
       "                </thead>\n",
       "                <tbody>\n",
       "                    \n",
       "                    <tr>\n",
       "                        <th> Bytes </th>\n",
       "                        <td> 478.52 kiB </td>\n",
       "                        <td> 7.81 kiB </td>\n",
       "                    </tr>\n",
       "                    \n",
       "                    <tr>\n",
       "                        <th> Shape </th>\n",
       "                        <td> (61250,) </td>\n",
       "                        <td> (1000,) </td>\n",
       "                    </tr>\n",
       "                    <tr>\n",
       "                        <th> Count </th>\n",
       "                        <td> 63 Tasks </td>\n",
       "                        <td> 62 Chunks </td>\n",
       "                    </tr>\n",
       "                    <tr>\n",
       "                    <th> Type </th>\n",
       "                    <td> float64 </td>\n",
       "                    <td> numpy.ndarray </td>\n",
       "                    </tr>\n",
       "                </tbody>\n",
       "            </table>\n",
       "        </td>\n",
       "        <td>\n",
       "        <svg width=\"170\" height=\"75\" style=\"stroke:rgb(0,0,0);stroke-width:1\" >\n",
       "\n",
       "  <!-- Horizontal lines -->\n",
       "  <line x1=\"0\" y1=\"0\" x2=\"120\" y2=\"0\" style=\"stroke-width:2\" />\n",
       "  <line x1=\"0\" y1=\"25\" x2=\"120\" y2=\"25\" style=\"stroke-width:2\" />\n",
       "\n",
       "  <!-- Vertical lines -->\n",
       "  <line x1=\"0\" y1=\"0\" x2=\"0\" y2=\"25\" style=\"stroke-width:2\" />\n",
       "  <line x1=\"5\" y1=\"0\" x2=\"5\" y2=\"25\" />\n",
       "  <line x1=\"11\" y1=\"0\" x2=\"11\" y2=\"25\" />\n",
       "  <line x1=\"17\" y1=\"0\" x2=\"17\" y2=\"25\" />\n",
       "  <line x1=\"25\" y1=\"0\" x2=\"25\" y2=\"25\" />\n",
       "  <line x1=\"31\" y1=\"0\" x2=\"31\" y2=\"25\" />\n",
       "  <line x1=\"37\" y1=\"0\" x2=\"37\" y2=\"25\" />\n",
       "  <line x1=\"43\" y1=\"0\" x2=\"43\" y2=\"25\" />\n",
       "  <line x1=\"50\" y1=\"0\" x2=\"50\" y2=\"25\" />\n",
       "  <line x1=\"56\" y1=\"0\" x2=\"56\" y2=\"25\" />\n",
       "  <line x1=\"62\" y1=\"0\" x2=\"62\" y2=\"25\" />\n",
       "  <line x1=\"68\" y1=\"0\" x2=\"68\" y2=\"25\" />\n",
       "  <line x1=\"76\" y1=\"0\" x2=\"76\" y2=\"25\" />\n",
       "  <line x1=\"82\" y1=\"0\" x2=\"82\" y2=\"25\" />\n",
       "  <line x1=\"88\" y1=\"0\" x2=\"88\" y2=\"25\" />\n",
       "  <line x1=\"94\" y1=\"0\" x2=\"94\" y2=\"25\" />\n",
       "  <line x1=\"101\" y1=\"0\" x2=\"101\" y2=\"25\" />\n",
       "  <line x1=\"107\" y1=\"0\" x2=\"107\" y2=\"25\" />\n",
       "  <line x1=\"113\" y1=\"0\" x2=\"113\" y2=\"25\" />\n",
       "  <line x1=\"120\" y1=\"0\" x2=\"120\" y2=\"25\" style=\"stroke-width:2\" />\n",
       "\n",
       "  <!-- Colored Rectangle -->\n",
       "  <polygon points=\"0.0,0.0 120.0,0.0 120.0,25.412616514582485 0.0,25.412616514582485\" style=\"fill:#8B4903A0;stroke-width:0\"/>\n",
       "\n",
       "  <!-- Text -->\n",
       "  <text x=\"60.000000\" y=\"45.412617\" font-size=\"1.0rem\" font-weight=\"100\" text-anchor=\"middle\" >61250</text>\n",
       "  <text x=\"140.000000\" y=\"12.706308\" font-size=\"1.0rem\" font-weight=\"100\" text-anchor=\"middle\" transform=\"rotate(0,140.000000,12.706308)\">1</text>\n",
       "</svg>\n",
       "        </td>\n",
       "    </tr>\n",
       "</table></div></li><li class='xr-var-item'><div class='xr-var-name'><span class='xr-has-index'>lev</span></div><div class='xr-var-dims'>(lev)</div><div class='xr-var-dtype'>float64</div><div class='xr-var-preview xr-preview'>2.58 3.23 3.88 ... 994.9 998.5</div><input id='attrs-703d44eb-e384-4fd5-9d31-0d6d35aa755c' class='xr-var-attrs-in' type='checkbox' ><label for='attrs-703d44eb-e384-4fd5-9d31-0d6d35aa755c' title='Show/Hide attributes'><svg class='icon xr-icon-file-text2'><use xlink:href='#icon-file-text2'></use></svg></label><input id='data-70274ae8-0a5b-4106-ba18-5dd21cb90aa8' class='xr-var-data-in' type='checkbox'><label for='data-70274ae8-0a5b-4106-ba18-5dd21cb90aa8' title='Show/Hide data repr'><svg class='icon xr-icon-database'><use xlink:href='#icon-database'></use></svg></label><div class='xr-var-attrs'><dl class='xr-attrs'><dt><span>standard_name :</span></dt><dd>atmosphere_hybrid_sigma_pressure_coordinate</dd><dt><span>axis :</span></dt><dd>Z</dd><dt><span>positive :</span></dt><dd>down</dd><dt><span>long_name :</span></dt><dd>hybrid sigma pressure coordinate</dd><dt><span>units :</span></dt><dd>hPa</dd><dt><span>formula_terms :</span></dt><dd>ap: ap b: b ps: ps</dd><dt><span>bounds :</span></dt><dd>lev_bnds</dd></dl></div><div class='xr-var-data'><pre>array([  2.580261,   3.230303,   3.880345,   4.597214,   5.472602,   6.531373,\n",
       "         7.706702,   8.96531 ,  10.409973,  12.109921,  14.006742,  15.99983 ,\n",
       "        18.164976,  20.620161,  23.338347,  26.174516,  29.120847,  32.297703,\n",
       "        35.715284,  39.26343 ,  42.878515,  46.638437,  50.574551,  54.630116,\n",
       "        58.7159  ,  62.797504,  66.873016,  70.943569,  74.99976 ,  78.921036,\n",
       "        82.597389,  86.041275,  89.375156,  92.790462,  96.385235, 100.176094,\n",
       "       104.081612, 108.06826 , 112.234768, 116.631958, 121.195316, 125.848602,\n",
       "       130.676682, 135.776154, 141.107918, 146.538979, 152.132385, 158.045067,\n",
       "       164.274315, 170.660492, 177.186722, 184.040817, 191.270531, 198.735794,\n",
       "       206.353653, 214.297318, 222.682869, 231.405449, 240.296982, 249.501312,\n",
       "       259.225502, 269.416672, 279.814896, 290.498184, 301.772339, 313.658081,\n",
       "       325.870331, 338.34111 , 351.409439, 365.197266, 379.466782, 394.023224,\n",
       "       409.167892, 425.159012, 441.831604, 458.821503, 476.368378, 494.911057,\n",
       "       514.390472, 534.308716, 554.228058, 574.149872, 594.074341, 614.000336,\n",
       "       633.769226, 653.107849, 671.900513, 690.304504, 708.447662, 725.969727,\n",
       "       742.540009, 758.303741, 773.714355, 788.442078, 801.848816, 813.956909,\n",
       "       825.42691 , 836.28299 , 845.720184, 853.547485, 860.378845, 866.985596,\n",
       "       873.490295, 879.858124, 886.122742, 892.335663, 898.454803, 904.420258,\n",
       "       910.248993, 916.017853, 921.706268, 927.229462, 932.58316 , 937.847809,\n",
       "       943.045654, 948.088898, 952.947845, 957.684937, 962.352142, 966.880341,\n",
       "       971.210907, 975.384003, 979.484222, 983.465424, 987.23703 , 990.971802,\n",
       "       994.933014, 998.496429])</pre></div></li></ul></div></li><li class='xr-section-item'><input id='section-15274980-5dd3-4300-a167-a72d8f6516e2' class='xr-section-summary-in' type='checkbox'  checked><label for='section-15274980-5dd3-4300-a167-a72d8f6516e2' class='xr-section-summary' >Attributes: <span>(6)</span></label><div class='xr-section-inline-details'></div><div class='xr-section-details'><dl class='xr-attrs'><dt><span>standard_name :</span></dt><dd>specific_humidity</dd><dt><span>long_name :</span></dt><dd>Specific humidity</dd><dt><span>units :</span></dt><dd>kg kg-1</dd><dt><span>CDI_grid_type :</span></dt><dd>unstructured</dd><dt><span>mdims :</span></dt><dd>1</dd><dt><span>origin :</span></dt><dd>Q</dd></dl></div></li></ul></div></div>"
      ],
      "text/plain": [
       "<xarray.DataArray 'hus' (time: 240, lev: 128, ncol: 61250)>\n",
       "dask.array<open_dataset-fe3b5d47b8894a280626a57674defc3chus, shape=(240, 128, 61250), dtype=float32, chunksize=(100, 128, 1000), chunktype=numpy.ndarray>\n",
       "Coordinates:\n",
       "  * time     (time) object 2020-01-30 00:00:00 ... 2020-02-28 21:00:00\n",
       "    lon      (ncol) float64 dask.array<chunksize=(1000,), meta=np.ndarray>\n",
       "    lat      (ncol) float64 dask.array<chunksize=(1000,), meta=np.ndarray>\n",
       "  * lev      (lev) float64 2.58 3.23 3.88 4.597 ... 987.2 991.0 994.9 998.5\n",
       "Dimensions without coordinates: ncol\n",
       "Attributes:\n",
       "    standard_name:  specific_humidity\n",
       "    long_name:      Specific humidity\n",
       "    units:          kg kg-1\n",
       "    CDI_grid_type:  unstructured\n",
       "    mdims:          1\n",
       "    origin:         Q"
      ]
     },
     "execution_count": 3,
     "metadata": {},
     "output_type": "execute_result"
    }
   ],
   "source": [
    "chunk_dict={\"time\":100,\"ncol\":1000}\n",
    "Tv = xr.open_dataset(ap.get_file(\"SCREAM\", region=region+\"_3D\", var=\"Tv\"), chunks=chunk_dict).hus\n",
    "Tv_avg = (Tv[:,1:,:] + Tv[:,:-1,:].assign_coords(Tv[:,1:,:].coords))/2\n",
    "Tv"
   ]
  },
  {
   "cell_type": "code",
   "execution_count": 4,
   "id": "b775aee7-aa40-4f49-a4b8-6d6d14bd7f34",
   "metadata": {},
   "outputs": [
    {
     "name": "stdout",
     "output_type": "stream",
     "text": [
      "[########################################] | 100% Completed | 14.4s\n"
     ]
    },
    {
     "data": {
      "image/png": "[encoded data removed]",
      "text/plain": [
       "<Figure size 432x288 with 1 Axes>"
      ]
     },
     "metadata": {
      "needs_background": "light"
     },
     "output_type": "display_data"
    }
   ],
   "source": [
    "Tv.mean(axis=(0,2)).plot()\n",
    "plt.show()"
   ]
  },
  {
   "cell_type": "code",
   "execution_count": 10,
   "id": "972d0d8d-536f-49a1-863a-906aab5209d8",
   "metadata": {},
   "outputs": [
    {
     "name": "stdout",
     "output_type": "stream",
     "text": [
      "(240, 127, 61250) (240, 127, 61250)\n"
     ]
    }
   ],
   "source": [
    "p = Tv.lev.values\n",
    "logp = (np.log((sc_p[1:]/sc_p[:-1]))[np.newaxis,:,np.newaxis])*287/9.8\n",
    "dz = Tv_avg*logp\n",
    "z = dz[:,::-1,:].cumsum(axis=(1))[:,::-1,:]\n",
    "print(z.shape, Tv_avg.shape)"
   ]
  },
  {
   "cell_type": "code",
   "execution_count": null,
   "id": "9ffa5564-19ac-40ee-ac68-b6a6857dff46",
   "metadata": {},
   "outputs": [],
   "source": [
    "z.mean(axis=(0,2)).plot(marker=\".\")\n",
    "plt.show()"
   ]
  },
  {
   "cell_type": "code",
   "execution_count": 12,
   "id": "7b8ac53f-2613-4cb8-8988-249a4d002d3b",
   "metadata": {},
   "outputs": [
    {
     "name": "stdout",
     "output_type": "stream",
     "text": [
      "[########################################] | 100% Completed |  2min 31.7s\n",
      "done\n"
     ]
    }
   ],
   "source": [
    "z = xr.Dataset({\"zg\":xr.DataArray(z, dims=Tv_avg.dims, \n",
    "                             attrs={\"name\":\"zg\",\"units\":\"m\"})}, \n",
    "           attrs={\"long_name\":\"geopotential height calculated from pressure\",\"name\":\"height\",\"units\":\"m\"})\n",
    "z.to_netcdf(\"/work/bb1153/b380883/TWP/TWP_3D_SCREAM_zg_20200130-20200228.nc\")\n",
    "print(\"done\")"
   ]
  },
  {
   "cell_type": "code",
   "execution_count": 17,
   "id": "f4583a91-083e-495a-abc5-c4e3891554fd",
   "metadata": {},
   "outputs": [
    {
     "name": "stdout",
     "output_type": "stream",
     "text": [
      "[########################################] | 100% Completed | 19.1s\n"
     ]
    },
    {
     "data": {
      "image/png": "[encoded data removed]",
      "text/plain": [
       "<Figure size 432x288 with 1 Axes>"
      ]
     },
     "metadata": {
      "needs_background": "light"
     },
     "output_type": "display_data"
    }
   ],
   "source": [
    "z.zg.mean(axis=(0,2)).plot(marker=\".\")\n",
    "plt.show()"
   ]
  },
  {
   "cell_type": "markdown",
   "id": "9f97d2d0-28dd-48d2-84d2-5b46f88868e8",
   "metadata": {},
   "source": [
    "# UM "
   ]
  },
  {
   "cell_type": "code",
   "execution_count": 5,
   "id": "64e87947-511a-4921-bfcf-19e22c7e581f",
   "metadata": {},
   "outputs": [],
   "source": [
    "chunk_dict={\"time\":100,\"latitude\":50,\"longitude\":50}\n",
    "Tv = xr.open_dataset(ap.get_file(\"UM\", region=region+\"_3D\", var=\"Tv\"), chunks=chunk_dict).hus\n",
    "Tv_avg = (Tv[:,1:] + Tv[:,:-1].assign_coords(Tv[:,1:,:].coords))/2"
   ]
  },
  {
   "cell_type": "code",
   "execution_count": 6,
   "id": "cd9f1d81-13bb-44ab-8f8a-bcd5877b5014",
   "metadata": {},
   "outputs": [
    {
     "data": {
      "text/plain": [
       "((240, 55, 214, 142), (240, 55, 214, 142))"
      ]
     },
     "execution_count": 6,
     "metadata": {},
     "output_type": "execute_result"
    }
   ],
   "source": [
    "p = xr.open_dataset(ap.get_file(\"UM\", region=region+\"_3D\", var=\"phalf\"), chunks=chunk_dict).phalf\n",
    "Tv.shape, sc_p.shape\n"
   ]
  },
  {
   "cell_type": "code",
   "execution_count": 15,
   "id": "d0f6ce8b-101a-4ba8-84db-b9efa98c865e",
   "metadata": {},
   "outputs": [
    {
     "name": "stdout",
     "output_type": "stream",
     "text": [
      "[########################################] | 100% Completed |  4.7s\n"
     ]
    },
    {
     "data": {
      "image/png": "[encoded data removed]",
      "text/plain": [
       "<Figure size 432x288 with 1 Axes>"
      ]
     },
     "metadata": {
      "needs_background": "light"
     },
     "output_type": "display_data"
    },
    {
     "name": "stdout",
     "output_type": "stream",
     "text": [
      "[########################################] | 100% Completed |  4.8s\n"
     ]
    },
    {
     "data": {
      "text/plain": [
       "[<matplotlib.lines.Line2D at 0x7ffebd72d760>]"
      ]
     },
     "execution_count": 15,
     "metadata": {},
     "output_type": "execute_result"
    },
    {
     "data": {
      "image/png": "[encoded data removed]",
      "text/plain": [
       "<Figure size 432x288 with 1 Axes>"
      ]
     },
     "metadata": {
      "needs_background": "light"
     },
     "output_type": "display_data"
    }
   ],
   "source": [
    "p.mean(axis=(0,2,3)).plot()\n",
    "plt.show()\n",
    "Tv.mean(axis=(0,2,3)).plot()\n",
    "plt.show()"
   ]
  },
  {
   "cell_type": "code",
   "execution_count": 5,
   "id": "3a7981a3-ea76-4307-9b3c-d097b30cb6c6",
   "metadata": {},
   "outputs": [
    {
     "data": {
      "image/png": "[encoded data removed]",
      "text/plain": [
       "<Figure size 2160x288 with 1 Axes>"
      ]
     },
     "metadata": {
      "needs_background": "light"
     },
     "output_type": "display_data"
    }
   ],
   "source": [
    "fig = plt.figure(figsize=(30,4))\n",
    "plt.plot(p.time, np.arange(len(p.time)), \".-\")\n",
    "plt.plot(Tv_avg.time,200+np.arange(len(Tv_avg.time)), \".-\")\n",
    "plt.show()"
   ]
  },
  {
   "cell_type": "code",
   "execution_count": 14,
   "id": "b0b0a247-74f4-4a02-910c-ed1fcbd6518f",
   "metadata": {},
   "outputs": [
    {
     "name": "stdout",
     "output_type": "stream",
     "text": [
      "[########################################] | 100% Completed |  4.6s\n",
      "[########################################] | 100% Completed |  4.6s\n"
     ]
    }
   ],
   "source": [
    "logp = abs(np.log((p[:,1:].values/p[:,:-1].values)))\n",
    "dz = 287*Tv_avg*logp/9.8"
   ]
  },
  {
   "cell_type": "code",
   "execution_count": 17,
   "id": "decd2ae6-acf6-431b-8cd3-ab23ccee984f",
   "metadata": {},
   "outputs": [
    {
     "name": "stdout",
     "output_type": "stream",
     "text": [
      "(240, 54, 214, 142) (240, 54, 214, 142)\n"
     ]
    }
   ],
   "source": [
    "z = dz.cumsum(axis=(1))\n",
    "print(z.shape, Tv_avg.shape)"
   ]
  },
  {
   "cell_type": "code",
   "execution_count": 20,
   "id": "19173fee-8701-43f7-b9a5-061c5e96cd9f",
   "metadata": {},
   "outputs": [
    {
     "name": "stdout",
     "output_type": "stream",
     "text": [
      "[########################################] | 100% Completed |  4.8s\n",
      "[########################################] | 100% Completed |  5.5s\n"
     ]
    },
    {
     "data": {
      "image/png": "[encoded data removed]",
      "text/plain": [
       "<Figure size 432x288 with 1 Axes>"
      ]
     },
     "metadata": {
      "needs_background": "light"
     },
     "output_type": "display_data"
    }
   ],
   "source": [
    "plt.plot(p.mean(axis=(0,2,3))[1:], z.mean(axis=(0,2,3)), marker=\".\")\n",
    "plt.show()"
   ]
  },
  {
   "cell_type": "code",
   "execution_count": 23,
   "id": "6276504e-454a-4c09-911e-556b00cb6697",
   "metadata": {},
   "outputs": [
    {
     "name": "stdout",
     "output_type": "stream",
     "text": [
      "[########################################] | 100% Completed |  5.7s\n"
     ]
    },
    {
     "data": {
      "image/png": "[encoded data removed]",
      "text/plain": [
       "<Figure size 432x288 with 1 Axes>"
      ]
     },
     "metadata": {
      "needs_background": "light"
     },
     "output_type": "display_data"
    },
    {
     "name": "stdout",
     "output_type": "stream",
     "text": [
      "[########################################] | 100% Completed |  5.5s\n"
     ]
    },
    {
     "data": {
      "text/plain": [
       "array(27.243397, dtype=float32)"
      ]
     },
     "execution_count": 23,
     "metadata": {},
     "output_type": "execute_result"
    }
   ],
   "source": [
    "z.mean(axis=(0,2,3)).plot()\n",
    "plt.show()\n",
    "z.min().values"
   ]
  },
  {
   "cell_type": "code",
   "execution_count": 24,
   "id": "8353998f-36eb-442c-93da-1a52fda623d6",
   "metadata": {},
   "outputs": [
    {
     "name": "stdout",
     "output_type": "stream",
     "text": [
      "[########################################] | 100% Completed | 26.3s\n",
      "done\n"
     ]
    }
   ],
   "source": [
    "z = xr.Dataset({\"zg\":xr.DataArray(z, dims=Tv_avg.dims, \n",
    "                             attrs={\"name\":\"zg\",\"units\":\"m\"})}, \n",
    "           attrs={\"long_name\":\"height from pressure\",\"name\":\"height\",\"units\":\"m\"})\n",
    "z.to_netcdf(\"/work/bb1153/b380883/TWP/TWP_3D_UM_zg_20200130-20200228.nc\")\n",
    "print(\"done\")"
   ]
  },
  {
   "cell_type": "code",
   "execution_count": null,
   "id": "1380d3d4-7307-4fcf-b62b-cf15367eae0f",
   "metadata": {},
   "outputs": [],
   "source": []
  },
  {
   "cell_type": "markdown",
   "id": "fa5e8bbf-c386-4bfb-aeb5-40390edd7fbe",
   "metadata": {},
   "source": [
    "# Get pressure from height\n",
    "\n",
    "\\begin{align}{}\n",
    "z_2-z_1 &= \\frac{287 \\ T_v}{g} \\cdot log(\\frac{p_1}{p_2}) \\\\\n",
    "\\frac{g}{287 \\ T_v}dz &= log(\\frac{p_1}{p_2}) \\\\\n",
    "exp(\\frac{g}{287 \\ T_v}dz) &= \\frac{p_1}{p_2} \\\\\n",
    "p_2 &= \\frac{p_1}{ exp(\\frac{g}{287 \\ T_v}dz) }\n",
    "\\end{align}\n",
    "\n",
    "where $p_1$ is surface pressure given by the 2D output\n",
    "\n",
    "\n",
    "\n",
    "## SAM"
   ]
  },
  {
   "cell_type": "code",
   "execution_count": null,
   "id": "77fa1220-7410-4f6e-935b-15c003f4d140",
   "metadata": {},
   "outputs": [],
   "source": [
    "ta = xr.open_dataset(ap.get_file(\"SAM\",\"TWP_3D\",\"ta\"))\n",
    "hus = xr.open_dataset(ap.get_file(\"SAM\",\"TWP_3D\",\"hus\"))\n",
    "z = ta.z\n",
    "\n",
    "\n",
    "\n"
   ]
  },
  {
   "cell_type": "markdown",
   "id": "20c324ff-c4ab-44dc-87e3-fb71741f6016",
   "metadata": {},
   "source": [
    "# Get pressure from pthick\n",
    "\n",
    "```pfull = ps + pthick ```\n",
    "\n",
    "## GEOS"
   ]
  },
  {
   "cell_type": "code",
   "execution_count": 4,
   "id": "2a2a0d32-423f-453d-a77b-494e81093e63",
   "metadata": {},
   "outputs": [],
   "source": [
    "pthick = xr.open_dataset(ap.get_file(\"GEOS\",\"TWP_3D\",\"pthick\"))\n",
    "ps = xr.open_dataset(ap.get_file(\"GEOS\",\"TWP_3D\",\"pthick\")).interp({'time':pthick.time, 'Xdim':pthick.Xdim})\n",
    "print(ps.shape, ps.units, pthick.shape, pthick.units)"
   ]
  },
  {
   "cell_type": "code",
   "execution_count": null,
   "id": "937b82fe-5c57-4c5c-a83b-3f0cd47ed667",
   "metadata": {},
   "outputs": [],
   "source": [
    "pfull = pthick\n",
    "pfull[:,0,:] = ps\n",
    "for i in range(1,len(pfull.levs)):\n",
    "    pfull[:,i,:] = pfull[:,i-1,:] + pthick[:,i,:]\n",
    "pfull"
   ]
  },
  {
   "cell_type": "code",
   "execution_count": null,
   "id": "96ef29fc-5202-4440-82a7-af334394e738",
   "metadata": {},
   "outputs": [],
   "source": [
    "# test \n",
    "pfull.mean(axis=(0,2)).plot()\n",
    "plt.show()"
   ]
  },
  {
   "cell_type": "code",
   "execution_count": null,
   "id": "ae3ee06e-df36-4df9-8159-ae5ddd2a9711",
   "metadata": {},
   "outputs": [],
   "source": [
    "xr.Dataset({\"pfull\":pfull},attrs={\"standard_name\":\"pressure\",\"units\":\"Pa\"}"
   ]
  }
 ],
 "metadata": {
  "kernelspec": {
   "display_name": "Python 3 (based on the module python3/2022.01)",
   "language": "python",
   "name": "python3_2022_01"
  },
  "language_info": {
   "codemirror_mode": {
    "name": "ipython",
    "version": 3
   },
   "file_extension": ".py",
   "mimetype": "text/x-python",
   "name": "python",
   "nbconvert_exporter": "python",
   "pygments_lexer": "ipython3",
   "version": "3.9.9"
  }
 },
 "nbformat": 4,
 "nbformat_minor": 5
}
