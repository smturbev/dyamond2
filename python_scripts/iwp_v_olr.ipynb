{
 "cells": [
  {
   "cell_type": "code",
   "execution_count": 1,
   "id": "a1861382-b165-42c8-899d-2a3bbcf8025d",
   "metadata": {},
   "outputs": [],
   "source": [
    "import xarray as xr\n",
    "import matplotlib.pyplot as plt\n",
    "import matplotlib.patches as mpat\n",
    "import matplotlib.transforms as trans\n",
    "from matplotlib import ticker, cm\n",
    "from utility import analysis_parameters as ap, util\n",
    "import numpy as np\n",
    "import dask\n",
    "from dask.diagnostics import ProgressBar\n",
    "pbar = ProgressBar()\n",
    "pbar.register()"
   ]
  },
  {
   "cell_type": "code",
   "execution_count": 2,
   "id": "2f0b83e0-2131-4136-99d6-5efe3abbb43d",
   "metadata": {},
   "outputs": [],
   "source": [
    "region=\"TWP\""
   ]
  },
  {
   "cell_type": "code",
   "execution_count": 3,
   "id": "aa35b54a-c998-4d55-929d-7cee0631d051",
   "metadata": {},
   "outputs": [],
   "source": [
    "models = [\"NICAM\"]\n",
    "olr_dict = {}\n",
    "iwp_dict = {}\n",
    "for m in models:\n",
    "    olr_dict[m] = xr.open_dataset(ap.get_file(m,region,\"rlut\")).rlut\n",
    "    iwp_dict[m] = xr.open_dataset(ap.get_file(m,region,\"clivi\")).clivi"
   ]
  },
  {
   "cell_type": "code",
   "execution_count": null,
   "id": "13cf5c78-597b-49cc-a1ce-568cd6b31db5",
   "metadata": {},
   "outputs": [],
   "source": [
    "fig = plt.figure(figsize=(8,8))\n",
    "axes= [fig.add_subplot(1,1,i, box_aspect=1.1) for i in range(1,len(models)+1)]\n",
    "\n",
    "for i,m in enumerate(models):\n",
    "    util.dennisplot(\"density\",olr_dict[m].values.flatten(), iwp_dict[m].values.flatten(), \n",
    "                        ax=axes[i], model=m, region=region,\n",
    "                        cmap=\"gist_earth_r\", levels=np.arange(-3.4,-1.2,0.2), colorbar_on=True)\n",
    "plt.show()"
   ]
  },
  {
   "cell_type": "code",
   "execution_count": null,
   "id": "6fffe1f0-1a70-4fcd-8c23-82647713e296",
   "metadata": {},
   "outputs": [],
   "source": []
  }
 ],
 "metadata": {
  "kernelspec": {
   "display_name": "Python 3 (based on the module python3/2022.01)",
   "language": "python",
   "name": "python3_2022_01"
  },
  "language_info": {
   "codemirror_mode": {
    "name": "ipython",
    "version": 3
   },
   "file_extension": ".py",
   "mimetype": "text/x-python",
   "name": "python",
   "nbconvert_exporter": "python",
   "pygments_lexer": "ipython3",
   "version": "3.9.9"
  }
 },
 "nbformat": 4,
 "nbformat_minor": 5
}
